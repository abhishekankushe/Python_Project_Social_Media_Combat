{
  "cells": [
    {
      "cell_type": "markdown",
      "metadata": {
        "id": "bODErXw4b7GV"
      },
      "source": [
        "---\n",
        "#  Python Mini Project by Abhishek Ankushe\n",
        "\n",
        "---"
      ]
    },
    {
      "cell_type": "markdown",
      "metadata": {
        "id": "X4_SBBJgb7h2"
      },
      "source": [
        "-----\n",
        "# **Import Required Libraries**\n",
        "\n",
        "-----"
      ]
    },
    {
      "cell_type": "code",
      "execution_count": 6,
      "metadata": {
        "colab": {
          "base_uri": "https://localhost:8080/"
        },
        "id": "WNy-_Zdnb8G2",
        "outputId": "81e005cc-41f6-4b4a-a60c-1f07268132ef"
      },
      "outputs": [
        {
          "ename": "ModuleNotFoundError",
          "evalue": "No module named 'google.colab'",
          "output_type": "error",
          "traceback": [
            "\u001b[31m---------------------------------------------------------------------------\u001b[39m",
            "\u001b[31mModuleNotFoundError\u001b[39m                       Traceback (most recent call last)",
            "\u001b[36mCell\u001b[39m\u001b[36m \u001b[39m\u001b[32mIn[6]\u001b[39m\u001b[32m, line 15\u001b[39m\n\u001b[32m     11\u001b[39m warnings.filterwarnings(\u001b[33m'\u001b[39m\u001b[33mignore\u001b[39m\u001b[33m'\u001b[39m)\n\u001b[32m     13\u001b[39m \u001b[38;5;66;03m# Mounting Google Drive for file access in Colab\u001b[39;00m\n\u001b[32m---> \u001b[39m\u001b[32m15\u001b[39m \u001b[38;5;28;01mfrom\u001b[39;00m\u001b[38;5;250m \u001b[39m\u001b[34;01mgoogle\u001b[39;00m\u001b[34;01m.\u001b[39;00m\u001b[34;01mcolab\u001b[39;00m\u001b[38;5;250m \u001b[39m\u001b[38;5;28;01mimport\u001b[39;00m drive\n\u001b[32m     16\u001b[39m drive.mount(\u001b[33m'\u001b[39m\u001b[33m/content/drive\u001b[39m\u001b[33m'\u001b[39m) \n",
            "\u001b[31mModuleNotFoundError\u001b[39m: No module named 'google.colab'"
          ]
        }
      ],
      "source": [
        "# Importing necessary libraries for EDA, Visualization, and Data Handling\n",
        "\n",
        "import numpy as np\n",
        "import pandas as pd\n",
        "import seaborn as sns\n",
        "import matplotlib.pyplot as plt\n",
        "\n",
        "# ignore warnings cluttering the notebook\n",
        "\n",
        "import warnings\n",
        "warnings.filterwarnings('ignore')\n",
        "\n",
        "# Mounting Google Drive for file access in Colab\n",
        "\n",
        "from google.colab import drive\n",
        "drive.mount('/content/drive') \n",
        "\n"
      ]
    },
    {
      "cell_type": "markdown",
      "metadata": {
        "id": "rjf6X0iob8UJ"
      },
      "source": [
        "#Data Loading & Understanding"
      ]
    },
    {
      "cell_type": "code",
      "execution_count": null,
      "metadata": {
        "id": "WLYtX3Bjb8eM"
      },
      "outputs": [],
      "source": [
        "# Loading the dataset from the CSV file\n",
        "\n",
        "df = pd.read_csv('/content/Students Social Media Addiction (1).csv')\n"
      ]
    },
    {
      "cell_type": "markdown",
      "metadata": {
        "id": "5esuZ6FAo5or"
      },
      "source": [
        "**Display the first 5**"
      ]
    },
    {
      "cell_type": "code",
      "execution_count": null,
      "metadata": {
        "colab": {
          "base_uri": "https://localhost:8080/",
          "height": 226
        },
        "id": "Cc5LxhT_o4p_",
        "outputId": "4b469732-2f84-4eff-f4ba-79064d148101"
      },
      "outputs": [
        {
          "data": {
            "application/vnd.google.colaboratory.intrinsic+json": {
              "summary": "{\n  \"name\": \"df\",\n  \"rows\": 705,\n  \"fields\": [\n    {\n      \"column\": \"Student_ID\",\n      \"properties\": {\n        \"dtype\": \"number\",\n        \"std\": 203,\n        \"min\": 1,\n        \"max\": 705,\n        \"num_unique_values\": 705,\n        \"samples\": [\n          479,\n          82,\n          78\n        ],\n        \"semantic_type\": \"\",\n        \"description\": \"\"\n      }\n    },\n    {\n      \"column\": \"Age\",\n      \"properties\": {\n        \"dtype\": \"number\",\n        \"std\": 1,\n        \"min\": 18,\n        \"max\": 24,\n        \"num_unique_values\": 7,\n        \"samples\": [\n          19,\n          22,\n          23\n        ],\n        \"semantic_type\": \"\",\n        \"description\": \"\"\n      }\n    },\n    {\n      \"column\": \"Gender\",\n      \"properties\": {\n        \"dtype\": \"category\",\n        \"num_unique_values\": 2,\n        \"samples\": [\n          \"Male\",\n          \"Female\"\n        ],\n        \"semantic_type\": \"\",\n        \"description\": \"\"\n      }\n    },\n    {\n      \"column\": \"Academic_Level\",\n      \"properties\": {\n        \"dtype\": \"category\",\n        \"num_unique_values\": 3,\n        \"samples\": [\n          \"Undergraduate\",\n          \"Graduate\"\n        ],\n        \"semantic_type\": \"\",\n        \"description\": \"\"\n      }\n    },\n    {\n      \"column\": \"Country\",\n      \"properties\": {\n        \"dtype\": \"category\",\n        \"num_unique_values\": 110,\n        \"samples\": [\n          \"Tajikistan\",\n          \"France\"\n        ],\n        \"semantic_type\": \"\",\n        \"description\": \"\"\n      }\n    },\n    {\n      \"column\": \"Avg_Daily_Usage_Hours\",\n      \"properties\": {\n        \"dtype\": \"number\",\n        \"std\": 1.2573945210731428,\n        \"min\": 1.5,\n        \"max\": 8.5,\n        \"num_unique_values\": 67,\n        \"samples\": [\n          3.9,\n          2.0\n        ],\n        \"semantic_type\": \"\",\n        \"description\": \"\"\n      }\n    },\n    {\n      \"column\": \"Most_Used_Platform\",\n      \"properties\": {\n        \"dtype\": \"category\",\n        \"num_unique_values\": 12,\n        \"samples\": [\n          \"WhatsApp\",\n          \"VKontakte\"\n        ],\n        \"semantic_type\": \"\",\n        \"description\": \"\"\n      }\n    },\n    {\n      \"column\": \"Affects_Academic_Performance\",\n      \"properties\": {\n        \"dtype\": \"category\",\n        \"num_unique_values\": 2,\n        \"samples\": [\n          \"No\",\n          \"Yes\"\n        ],\n        \"semantic_type\": \"\",\n        \"description\": \"\"\n      }\n    },\n    {\n      \"column\": \"Sleep_Hours_Per_Night\",\n      \"properties\": {\n        \"dtype\": \"number\",\n        \"std\": 1.126848041531804,\n        \"min\": 3.8,\n        \"max\": 9.6,\n        \"num_unique_values\": 59,\n        \"samples\": [\n          6.5,\n          4.5\n        ],\n        \"semantic_type\": \"\",\n        \"description\": \"\"\n      }\n    },\n    {\n      \"column\": \"Mental_Health_Score\",\n      \"properties\": {\n        \"dtype\": \"number\",\n        \"std\": 1,\n        \"min\": 4,\n        \"max\": 9,\n        \"num_unique_values\": 6,\n        \"samples\": [\n          6,\n          8\n        ],\n        \"semantic_type\": \"\",\n        \"description\": \"\"\n      }\n    },\n    {\n      \"column\": \"Relationship_Status\",\n      \"properties\": {\n        \"dtype\": \"category\",\n        \"num_unique_values\": 3,\n        \"samples\": [\n          \"In Relationship\",\n          \"Single\"\n        ],\n        \"semantic_type\": \"\",\n        \"description\": \"\"\n      }\n    },\n    {\n      \"column\": \"Conflicts_Over_Social_Media\",\n      \"properties\": {\n        \"dtype\": \"number\",\n        \"std\": 0,\n        \"min\": 0,\n        \"max\": 5,\n        \"num_unique_values\": 6,\n        \"samples\": [\n          3,\n          0\n        ],\n        \"semantic_type\": \"\",\n        \"description\": \"\"\n      }\n    },\n    {\n      \"column\": \"Addicted_Score\",\n      \"properties\": {\n        \"dtype\": \"number\",\n        \"std\": 1,\n        \"min\": 2,\n        \"max\": 9,\n        \"num_unique_values\": 8,\n        \"samples\": [\n          3,\n          2\n        ],\n        \"semantic_type\": \"\",\n        \"description\": \"\"\n      }\n    }\n  ]\n}",
              "type": "dataframe",
              "variable_name": "df"
            },
            "text/html": [
              "\n",
              "  <div id=\"df-04bed6bc-9a6f-4c97-a72f-5651468c03ae\" class=\"colab-df-container\">\n",
              "    <div>\n",
              "<style scoped>\n",
              "    .dataframe tbody tr th:only-of-type {\n",
              "        vertical-align: middle;\n",
              "    }\n",
              "\n",
              "    .dataframe tbody tr th {\n",
              "        vertical-align: top;\n",
              "    }\n",
              "\n",
              "    .dataframe thead th {\n",
              "        text-align: right;\n",
              "    }\n",
              "</style>\n",
              "<table border=\"1\" class=\"dataframe\">\n",
              "  <thead>\n",
              "    <tr style=\"text-align: right;\">\n",
              "      <th></th>\n",
              "      <th>Student_ID</th>\n",
              "      <th>Age</th>\n",
              "      <th>Gender</th>\n",
              "      <th>Academic_Level</th>\n",
              "      <th>Country</th>\n",
              "      <th>Avg_Daily_Usage_Hours</th>\n",
              "      <th>Most_Used_Platform</th>\n",
              "      <th>Affects_Academic_Performance</th>\n",
              "      <th>Sleep_Hours_Per_Night</th>\n",
              "      <th>Mental_Health_Score</th>\n",
              "      <th>Relationship_Status</th>\n",
              "      <th>Conflicts_Over_Social_Media</th>\n",
              "      <th>Addicted_Score</th>\n",
              "    </tr>\n",
              "  </thead>\n",
              "  <tbody>\n",
              "    <tr>\n",
              "      <th>0</th>\n",
              "      <td>1</td>\n",
              "      <td>19</td>\n",
              "      <td>Female</td>\n",
              "      <td>Undergraduate</td>\n",
              "      <td>Bangladesh</td>\n",
              "      <td>5.2</td>\n",
              "      <td>Instagram</td>\n",
              "      <td>Yes</td>\n",
              "      <td>6.5</td>\n",
              "      <td>6</td>\n",
              "      <td>In Relationship</td>\n",
              "      <td>3</td>\n",
              "      <td>8</td>\n",
              "    </tr>\n",
              "    <tr>\n",
              "      <th>1</th>\n",
              "      <td>2</td>\n",
              "      <td>22</td>\n",
              "      <td>Male</td>\n",
              "      <td>Graduate</td>\n",
              "      <td>India</td>\n",
              "      <td>2.1</td>\n",
              "      <td>Twitter</td>\n",
              "      <td>No</td>\n",
              "      <td>7.5</td>\n",
              "      <td>8</td>\n",
              "      <td>Single</td>\n",
              "      <td>0</td>\n",
              "      <td>3</td>\n",
              "    </tr>\n",
              "    <tr>\n",
              "      <th>2</th>\n",
              "      <td>3</td>\n",
              "      <td>20</td>\n",
              "      <td>Female</td>\n",
              "      <td>Undergraduate</td>\n",
              "      <td>USA</td>\n",
              "      <td>6.0</td>\n",
              "      <td>TikTok</td>\n",
              "      <td>Yes</td>\n",
              "      <td>5.0</td>\n",
              "      <td>5</td>\n",
              "      <td>Complicated</td>\n",
              "      <td>4</td>\n",
              "      <td>9</td>\n",
              "    </tr>\n",
              "    <tr>\n",
              "      <th>3</th>\n",
              "      <td>4</td>\n",
              "      <td>18</td>\n",
              "      <td>Male</td>\n",
              "      <td>High School</td>\n",
              "      <td>UK</td>\n",
              "      <td>3.0</td>\n",
              "      <td>YouTube</td>\n",
              "      <td>No</td>\n",
              "      <td>7.0</td>\n",
              "      <td>7</td>\n",
              "      <td>Single</td>\n",
              "      <td>1</td>\n",
              "      <td>4</td>\n",
              "    </tr>\n",
              "    <tr>\n",
              "      <th>4</th>\n",
              "      <td>5</td>\n",
              "      <td>21</td>\n",
              "      <td>Male</td>\n",
              "      <td>Graduate</td>\n",
              "      <td>Canada</td>\n",
              "      <td>4.5</td>\n",
              "      <td>Facebook</td>\n",
              "      <td>Yes</td>\n",
              "      <td>6.0</td>\n",
              "      <td>6</td>\n",
              "      <td>In Relationship</td>\n",
              "      <td>2</td>\n",
              "      <td>7</td>\n",
              "    </tr>\n",
              "  </tbody>\n",
              "</table>\n",
              "</div>\n",
              "    <div class=\"colab-df-buttons\">\n",
              "\n",
              "  <div class=\"colab-df-container\">\n",
              "    <button class=\"colab-df-convert\" onclick=\"convertToInteractive('df-04bed6bc-9a6f-4c97-a72f-5651468c03ae')\"\n",
              "            title=\"Convert this dataframe to an interactive table.\"\n",
              "            style=\"display:none;\">\n",
              "\n",
              "  <svg xmlns=\"http://www.w3.org/2000/svg\" height=\"24px\" viewBox=\"0 -960 960 960\">\n",
              "    <path d=\"M120-120v-720h720v720H120Zm60-500h600v-160H180v160Zm220 220h160v-160H400v160Zm0 220h160v-160H400v160ZM180-400h160v-160H180v160Zm440 0h160v-160H620v160ZM180-180h160v-160H180v160Zm440 0h160v-160H620v160Z\"/>\n",
              "  </svg>\n",
              "    </button>\n",
              "\n",
              "  <style>\n",
              "    .colab-df-container {\n",
              "      display:flex;\n",
              "      gap: 12px;\n",
              "    }\n",
              "\n",
              "    .colab-df-convert {\n",
              "      background-color: #E8F0FE;\n",
              "      border: none;\n",
              "      border-radius: 50%;\n",
              "      cursor: pointer;\n",
              "      display: none;\n",
              "      fill: #1967D2;\n",
              "      height: 32px;\n",
              "      padding: 0 0 0 0;\n",
              "      width: 32px;\n",
              "    }\n",
              "\n",
              "    .colab-df-convert:hover {\n",
              "      background-color: #E2EBFA;\n",
              "      box-shadow: 0px 1px 2px rgba(60, 64, 67, 0.3), 0px 1px 3px 1px rgba(60, 64, 67, 0.15);\n",
              "      fill: #174EA6;\n",
              "    }\n",
              "\n",
              "    .colab-df-buttons div {\n",
              "      margin-bottom: 4px;\n",
              "    }\n",
              "\n",
              "    [theme=dark] .colab-df-convert {\n",
              "      background-color: #3B4455;\n",
              "      fill: #D2E3FC;\n",
              "    }\n",
              "\n",
              "    [theme=dark] .colab-df-convert:hover {\n",
              "      background-color: #434B5C;\n",
              "      box-shadow: 0px 1px 3px 1px rgba(0, 0, 0, 0.15);\n",
              "      filter: drop-shadow(0px 1px 2px rgba(0, 0, 0, 0.3));\n",
              "      fill: #FFFFFF;\n",
              "    }\n",
              "  </style>\n",
              "\n",
              "    <script>\n",
              "      const buttonEl =\n",
              "        document.querySelector('#df-04bed6bc-9a6f-4c97-a72f-5651468c03ae button.colab-df-convert');\n",
              "      buttonEl.style.display =\n",
              "        google.colab.kernel.accessAllowed ? 'block' : 'none';\n",
              "\n",
              "      async function convertToInteractive(key) {\n",
              "        const element = document.querySelector('#df-04bed6bc-9a6f-4c97-a72f-5651468c03ae');\n",
              "        const dataTable =\n",
              "          await google.colab.kernel.invokeFunction('convertToInteractive',\n",
              "                                                    [key], {});\n",
              "        if (!dataTable) return;\n",
              "\n",
              "        const docLinkHtml = 'Like what you see? Visit the ' +\n",
              "          '<a target=\"_blank\" href=https://colab.research.google.com/notebooks/data_table.ipynb>data table notebook</a>'\n",
              "          + ' to learn more about interactive tables.';\n",
              "        element.innerHTML = '';\n",
              "        dataTable['output_type'] = 'display_data';\n",
              "        await google.colab.output.renderOutput(dataTable, element);\n",
              "        const docLink = document.createElement('div');\n",
              "        docLink.innerHTML = docLinkHtml;\n",
              "        element.appendChild(docLink);\n",
              "      }\n",
              "    </script>\n",
              "  </div>\n",
              "\n",
              "\n",
              "    <div id=\"df-6507d95e-1595-4f8d-acd7-ea4eb71a27af\">\n",
              "      <button class=\"colab-df-quickchart\" onclick=\"quickchart('df-6507d95e-1595-4f8d-acd7-ea4eb71a27af')\"\n",
              "                title=\"Suggest charts\"\n",
              "                style=\"display:none;\">\n",
              "\n",
              "<svg xmlns=\"http://www.w3.org/2000/svg\" height=\"24px\"viewBox=\"0 0 24 24\"\n",
              "     width=\"24px\">\n",
              "    <g>\n",
              "        <path d=\"M19 3H5c-1.1 0-2 .9-2 2v14c0 1.1.9 2 2 2h14c1.1 0 2-.9 2-2V5c0-1.1-.9-2-2-2zM9 17H7v-7h2v7zm4 0h-2V7h2v10zm4 0h-2v-4h2v4z\"/>\n",
              "    </g>\n",
              "</svg>\n",
              "      </button>\n",
              "\n",
              "<style>\n",
              "  .colab-df-quickchart {\n",
              "      --bg-color: #E8F0FE;\n",
              "      --fill-color: #1967D2;\n",
              "      --hover-bg-color: #E2EBFA;\n",
              "      --hover-fill-color: #174EA6;\n",
              "      --disabled-fill-color: #AAA;\n",
              "      --disabled-bg-color: #DDD;\n",
              "  }\n",
              "\n",
              "  [theme=dark] .colab-df-quickchart {\n",
              "      --bg-color: #3B4455;\n",
              "      --fill-color: #D2E3FC;\n",
              "      --hover-bg-color: #434B5C;\n",
              "      --hover-fill-color: #FFFFFF;\n",
              "      --disabled-bg-color: #3B4455;\n",
              "      --disabled-fill-color: #666;\n",
              "  }\n",
              "\n",
              "  .colab-df-quickchart {\n",
              "    background-color: var(--bg-color);\n",
              "    border: none;\n",
              "    border-radius: 50%;\n",
              "    cursor: pointer;\n",
              "    display: none;\n",
              "    fill: var(--fill-color);\n",
              "    height: 32px;\n",
              "    padding: 0;\n",
              "    width: 32px;\n",
              "  }\n",
              "\n",
              "  .colab-df-quickchart:hover {\n",
              "    background-color: var(--hover-bg-color);\n",
              "    box-shadow: 0 1px 2px rgba(60, 64, 67, 0.3), 0 1px 3px 1px rgba(60, 64, 67, 0.15);\n",
              "    fill: var(--button-hover-fill-color);\n",
              "  }\n",
              "\n",
              "  .colab-df-quickchart-complete:disabled,\n",
              "  .colab-df-quickchart-complete:disabled:hover {\n",
              "    background-color: var(--disabled-bg-color);\n",
              "    fill: var(--disabled-fill-color);\n",
              "    box-shadow: none;\n",
              "  }\n",
              "\n",
              "  .colab-df-spinner {\n",
              "    border: 2px solid var(--fill-color);\n",
              "    border-color: transparent;\n",
              "    border-bottom-color: var(--fill-color);\n",
              "    animation:\n",
              "      spin 1s steps(1) infinite;\n",
              "  }\n",
              "\n",
              "  @keyframes spin {\n",
              "    0% {\n",
              "      border-color: transparent;\n",
              "      border-bottom-color: var(--fill-color);\n",
              "      border-left-color: var(--fill-color);\n",
              "    }\n",
              "    20% {\n",
              "      border-color: transparent;\n",
              "      border-left-color: var(--fill-color);\n",
              "      border-top-color: var(--fill-color);\n",
              "    }\n",
              "    30% {\n",
              "      border-color: transparent;\n",
              "      border-left-color: var(--fill-color);\n",
              "      border-top-color: var(--fill-color);\n",
              "      border-right-color: var(--fill-color);\n",
              "    }\n",
              "    40% {\n",
              "      border-color: transparent;\n",
              "      border-right-color: var(--fill-color);\n",
              "      border-top-color: var(--fill-color);\n",
              "    }\n",
              "    60% {\n",
              "      border-color: transparent;\n",
              "      border-right-color: var(--fill-color);\n",
              "    }\n",
              "    80% {\n",
              "      border-color: transparent;\n",
              "      border-right-color: var(--fill-color);\n",
              "      border-bottom-color: var(--fill-color);\n",
              "    }\n",
              "    90% {\n",
              "      border-color: transparent;\n",
              "      border-bottom-color: var(--fill-color);\n",
              "    }\n",
              "  }\n",
              "</style>\n",
              "\n",
              "      <script>\n",
              "        async function quickchart(key) {\n",
              "          const quickchartButtonEl =\n",
              "            document.querySelector('#' + key + ' button');\n",
              "          quickchartButtonEl.disabled = true;  // To prevent multiple clicks.\n",
              "          quickchartButtonEl.classList.add('colab-df-spinner');\n",
              "          try {\n",
              "            const charts = await google.colab.kernel.invokeFunction(\n",
              "                'suggestCharts', [key], {});\n",
              "          } catch (error) {\n",
              "            console.error('Error during call to suggestCharts:', error);\n",
              "          }\n",
              "          quickchartButtonEl.classList.remove('colab-df-spinner');\n",
              "          quickchartButtonEl.classList.add('colab-df-quickchart-complete');\n",
              "        }\n",
              "        (() => {\n",
              "          let quickchartButtonEl =\n",
              "            document.querySelector('#df-6507d95e-1595-4f8d-acd7-ea4eb71a27af button');\n",
              "          quickchartButtonEl.style.display =\n",
              "            google.colab.kernel.accessAllowed ? 'block' : 'none';\n",
              "        })();\n",
              "      </script>\n",
              "    </div>\n",
              "\n",
              "    </div>\n",
              "  </div>\n"
            ],
            "text/plain": [
              "   Student_ID  Age  Gender Academic_Level     Country  Avg_Daily_Usage_Hours  \\\n",
              "0           1   19  Female  Undergraduate  Bangladesh                    5.2   \n",
              "1           2   22    Male       Graduate       India                    2.1   \n",
              "2           3   20  Female  Undergraduate         USA                    6.0   \n",
              "3           4   18    Male    High School          UK                    3.0   \n",
              "4           5   21    Male       Graduate      Canada                    4.5   \n",
              "\n",
              "  Most_Used_Platform Affects_Academic_Performance  Sleep_Hours_Per_Night  \\\n",
              "0          Instagram                          Yes                    6.5   \n",
              "1            Twitter                           No                    7.5   \n",
              "2             TikTok                          Yes                    5.0   \n",
              "3            YouTube                           No                    7.0   \n",
              "4           Facebook                          Yes                    6.0   \n",
              "\n",
              "   Mental_Health_Score Relationship_Status  Conflicts_Over_Social_Media  \\\n",
              "0                    6     In Relationship                            3   \n",
              "1                    8              Single                            0   \n",
              "2                    5         Complicated                            4   \n",
              "3                    7              Single                            1   \n",
              "4                    6     In Relationship                            2   \n",
              "\n",
              "   Addicted_Score  \n",
              "0               8  \n",
              "1               3  \n",
              "2               9  \n",
              "3               4  \n",
              "4               7  "
            ]
          },
          "execution_count": 57,
          "metadata": {},
          "output_type": "execute_result"
        }
      ],
      "source": [
        "# Display the first 5 records to understand the structure\n",
        "\n",
        "df.head()\n"
      ]
    },
    {
      "cell_type": "code",
      "execution_count": null,
      "metadata": {
        "colab": {
          "base_uri": "https://localhost:8080/",
          "height": 226
        },
        "id": "b30oCj_V4cgJ",
        "outputId": "92c36a68-e51f-4e10-94d8-cdee90c212d8"
      },
      "outputs": [
        {
          "data": {
            "application/vnd.google.colaboratory.intrinsic+json": {
              "summary": "{\n  \"name\": \"df\",\n  \"rows\": 5,\n  \"fields\": [\n    {\n      \"column\": \"Student_ID\",\n      \"properties\": {\n        \"dtype\": \"number\",\n        \"std\": 210,\n        \"min\": 105,\n        \"max\": 614,\n        \"num_unique_values\": 5,\n        \"samples\": [\n          166,\n          248,\n          122\n        ],\n        \"semantic_type\": \"\",\n        \"description\": \"\"\n      }\n    },\n    {\n      \"column\": \"Age\",\n      \"properties\": {\n        \"dtype\": \"number\",\n        \"std\": 0,\n        \"min\": 21,\n        \"max\": 22,\n        \"num_unique_values\": 2,\n        \"samples\": [\n          21,\n          22\n        ],\n        \"semantic_type\": \"\",\n        \"description\": \"\"\n      }\n    },\n    {\n      \"column\": \"Gender\",\n      \"properties\": {\n        \"dtype\": \"category\",\n        \"num_unique_values\": 2,\n        \"samples\": [\n          \"Female\",\n          \"Male\"\n        ],\n        \"semantic_type\": \"\",\n        \"description\": \"\"\n      }\n    },\n    {\n      \"column\": \"Academic_Level\",\n      \"properties\": {\n        \"dtype\": \"category\",\n        \"num_unique_values\": 2,\n        \"samples\": [\n          \"Undergraduate\",\n          \"Graduate\"\n        ],\n        \"semantic_type\": \"\",\n        \"description\": \"\"\n      }\n    },\n    {\n      \"column\": \"Country\",\n      \"properties\": {\n        \"dtype\": \"string\",\n        \"num_unique_values\": 4,\n        \"samples\": [\n          \"Maldives\",\n          \"Germany\"\n        ],\n        \"semantic_type\": \"\",\n        \"description\": \"\"\n      }\n    },\n    {\n      \"column\": \"Avg_Daily_Usage_Hours\",\n      \"properties\": {\n        \"dtype\": \"number\",\n        \"std\": 1.1379806676741044,\n        \"min\": 2.9,\n        \"max\": 5.7,\n        \"num_unique_values\": 5,\n        \"samples\": [\n          5.4,\n          3.9\n        ],\n        \"semantic_type\": \"\",\n        \"description\": \"\"\n      }\n    },\n    {\n      \"column\": \"Most_Used_Platform\",\n      \"properties\": {\n        \"dtype\": \"string\",\n        \"num_unique_values\": 3,\n        \"samples\": [\n          \"LinkedIn\",\n          \"TikTok\"\n        ],\n        \"semantic_type\": \"\",\n        \"description\": \"\"\n      }\n    },\n    {\n      \"column\": \"Affects_Academic_Performance\",\n      \"properties\": {\n        \"dtype\": \"category\",\n        \"num_unique_values\": 2,\n        \"samples\": [\n          \"Yes\",\n          \"No\"\n        ],\n        \"semantic_type\": \"\",\n        \"description\": \"\"\n      }\n    },\n    {\n      \"column\": \"Sleep_Hours_Per_Night\",\n      \"properties\": {\n        \"dtype\": \"number\",\n        \"std\": 0.6870225614927067,\n        \"min\": 6.0,\n        \"max\": 7.8,\n        \"num_unique_values\": 5,\n        \"samples\": [\n          6.0,\n          7.8\n        ],\n        \"semantic_type\": \"\",\n        \"description\": \"\"\n      }\n    },\n    {\n      \"column\": \"Mental_Health_Score\",\n      \"properties\": {\n        \"dtype\": \"number\",\n        \"std\": 1,\n        \"min\": 6,\n        \"max\": 8,\n        \"num_unique_values\": 3,\n        \"samples\": [\n          7,\n          6\n        ],\n        \"semantic_type\": \"\",\n        \"description\": \"\"\n      }\n    },\n    {\n      \"column\": \"Relationship_Status\",\n      \"properties\": {\n        \"dtype\": \"string\",\n        \"num_unique_values\": 3,\n        \"samples\": [\n          \"Complicated\",\n          \"In Relationship\"\n        ],\n        \"semantic_type\": \"\",\n        \"description\": \"\"\n      }\n    },\n    {\n      \"column\": \"Conflicts_Over_Social_Media\",\n      \"properties\": {\n        \"dtype\": \"number\",\n        \"std\": 1,\n        \"min\": 1,\n        \"max\": 4,\n        \"num_unique_values\": 4,\n        \"samples\": [\n          4,\n          1\n        ],\n        \"semantic_type\": \"\",\n        \"description\": \"\"\n      }\n    },\n    {\n      \"column\": \"Addicted_Score\",\n      \"properties\": {\n        \"dtype\": \"number\",\n        \"std\": 1,\n        \"min\": 4,\n        \"max\": 8,\n        \"num_unique_values\": 4,\n        \"samples\": [\n          8,\n          4\n        ],\n        \"semantic_type\": \"\",\n        \"description\": \"\"\n      }\n    }\n  ]\n}",
              "type": "dataframe"
            },
            "text/html": [
              "\n",
              "  <div id=\"df-c5f57bfb-9d39-4923-b18b-50822aabb193\" class=\"colab-df-container\">\n",
              "    <div>\n",
              "<style scoped>\n",
              "    .dataframe tbody tr th:only-of-type {\n",
              "        vertical-align: middle;\n",
              "    }\n",
              "\n",
              "    .dataframe tbody tr th {\n",
              "        vertical-align: top;\n",
              "    }\n",
              "\n",
              "    .dataframe thead th {\n",
              "        text-align: right;\n",
              "    }\n",
              "</style>\n",
              "<table border=\"1\" class=\"dataframe\">\n",
              "  <thead>\n",
              "    <tr style=\"text-align: right;\">\n",
              "      <th></th>\n",
              "      <th>Student_ID</th>\n",
              "      <th>Age</th>\n",
              "      <th>Gender</th>\n",
              "      <th>Academic_Level</th>\n",
              "      <th>Country</th>\n",
              "      <th>Avg_Daily_Usage_Hours</th>\n",
              "      <th>Most_Used_Platform</th>\n",
              "      <th>Affects_Academic_Performance</th>\n",
              "      <th>Sleep_Hours_Per_Night</th>\n",
              "      <th>Mental_Health_Score</th>\n",
              "      <th>Relationship_Status</th>\n",
              "      <th>Conflicts_Over_Social_Media</th>\n",
              "      <th>Addicted_Score</th>\n",
              "    </tr>\n",
              "  </thead>\n",
              "  <tbody>\n",
              "    <tr>\n",
              "      <th>104</th>\n",
              "      <td>105</td>\n",
              "      <td>22</td>\n",
              "      <td>Male</td>\n",
              "      <td>Graduate</td>\n",
              "      <td>Afghanistan</td>\n",
              "      <td>2.9</td>\n",
              "      <td>LinkedIn</td>\n",
              "      <td>No</td>\n",
              "      <td>7.0</td>\n",
              "      <td>7</td>\n",
              "      <td>Complicated</td>\n",
              "      <td>2</td>\n",
              "      <td>5</td>\n",
              "    </tr>\n",
              "    <tr>\n",
              "      <th>165</th>\n",
              "      <td>166</td>\n",
              "      <td>21</td>\n",
              "      <td>Male</td>\n",
              "      <td>Graduate</td>\n",
              "      <td>Maldives</td>\n",
              "      <td>5.4</td>\n",
              "      <td>TikTok</td>\n",
              "      <td>Yes</td>\n",
              "      <td>6.0</td>\n",
              "      <td>6</td>\n",
              "      <td>In Relationship</td>\n",
              "      <td>4</td>\n",
              "      <td>8</td>\n",
              "    </tr>\n",
              "    <tr>\n",
              "      <th>121</th>\n",
              "      <td>122</td>\n",
              "      <td>21</td>\n",
              "      <td>Female</td>\n",
              "      <td>Graduate</td>\n",
              "      <td>Maldives</td>\n",
              "      <td>4.6</td>\n",
              "      <td>Instagram</td>\n",
              "      <td>No</td>\n",
              "      <td>7.4</td>\n",
              "      <td>8</td>\n",
              "      <td>In Relationship</td>\n",
              "      <td>2</td>\n",
              "      <td>5</td>\n",
              "    </tr>\n",
              "    <tr>\n",
              "      <th>613</th>\n",
              "      <td>614</td>\n",
              "      <td>21</td>\n",
              "      <td>Male</td>\n",
              "      <td>Undergraduate</td>\n",
              "      <td>Canada</td>\n",
              "      <td>5.7</td>\n",
              "      <td>Instagram</td>\n",
              "      <td>Yes</td>\n",
              "      <td>6.7</td>\n",
              "      <td>6</td>\n",
              "      <td>Single</td>\n",
              "      <td>3</td>\n",
              "      <td>7</td>\n",
              "    </tr>\n",
              "    <tr>\n",
              "      <th>247</th>\n",
              "      <td>248</td>\n",
              "      <td>22</td>\n",
              "      <td>Male</td>\n",
              "      <td>Graduate</td>\n",
              "      <td>Germany</td>\n",
              "      <td>3.9</td>\n",
              "      <td>Instagram</td>\n",
              "      <td>No</td>\n",
              "      <td>7.8</td>\n",
              "      <td>8</td>\n",
              "      <td>Single</td>\n",
              "      <td>1</td>\n",
              "      <td>4</td>\n",
              "    </tr>\n",
              "  </tbody>\n",
              "</table>\n",
              "</div>\n",
              "    <div class=\"colab-df-buttons\">\n",
              "\n",
              "  <div class=\"colab-df-container\">\n",
              "    <button class=\"colab-df-convert\" onclick=\"convertToInteractive('df-c5f57bfb-9d39-4923-b18b-50822aabb193')\"\n",
              "            title=\"Convert this dataframe to an interactive table.\"\n",
              "            style=\"display:none;\">\n",
              "\n",
              "  <svg xmlns=\"http://www.w3.org/2000/svg\" height=\"24px\" viewBox=\"0 -960 960 960\">\n",
              "    <path d=\"M120-120v-720h720v720H120Zm60-500h600v-160H180v160Zm220 220h160v-160H400v160Zm0 220h160v-160H400v160ZM180-400h160v-160H180v160Zm440 0h160v-160H620v160ZM180-180h160v-160H180v160Zm440 0h160v-160H620v160Z\"/>\n",
              "  </svg>\n",
              "    </button>\n",
              "\n",
              "  <style>\n",
              "    .colab-df-container {\n",
              "      display:flex;\n",
              "      gap: 12px;\n",
              "    }\n",
              "\n",
              "    .colab-df-convert {\n",
              "      background-color: #E8F0FE;\n",
              "      border: none;\n",
              "      border-radius: 50%;\n",
              "      cursor: pointer;\n",
              "      display: none;\n",
              "      fill: #1967D2;\n",
              "      height: 32px;\n",
              "      padding: 0 0 0 0;\n",
              "      width: 32px;\n",
              "    }\n",
              "\n",
              "    .colab-df-convert:hover {\n",
              "      background-color: #E2EBFA;\n",
              "      box-shadow: 0px 1px 2px rgba(60, 64, 67, 0.3), 0px 1px 3px 1px rgba(60, 64, 67, 0.15);\n",
              "      fill: #174EA6;\n",
              "    }\n",
              "\n",
              "    .colab-df-buttons div {\n",
              "      margin-bottom: 4px;\n",
              "    }\n",
              "\n",
              "    [theme=dark] .colab-df-convert {\n",
              "      background-color: #3B4455;\n",
              "      fill: #D2E3FC;\n",
              "    }\n",
              "\n",
              "    [theme=dark] .colab-df-convert:hover {\n",
              "      background-color: #434B5C;\n",
              "      box-shadow: 0px 1px 3px 1px rgba(0, 0, 0, 0.15);\n",
              "      filter: drop-shadow(0px 1px 2px rgba(0, 0, 0, 0.3));\n",
              "      fill: #FFFFFF;\n",
              "    }\n",
              "  </style>\n",
              "\n",
              "    <script>\n",
              "      const buttonEl =\n",
              "        document.querySelector('#df-c5f57bfb-9d39-4923-b18b-50822aabb193 button.colab-df-convert');\n",
              "      buttonEl.style.display =\n",
              "        google.colab.kernel.accessAllowed ? 'block' : 'none';\n",
              "\n",
              "      async function convertToInteractive(key) {\n",
              "        const element = document.querySelector('#df-c5f57bfb-9d39-4923-b18b-50822aabb193');\n",
              "        const dataTable =\n",
              "          await google.colab.kernel.invokeFunction('convertToInteractive',\n",
              "                                                    [key], {});\n",
              "        if (!dataTable) return;\n",
              "\n",
              "        const docLinkHtml = 'Like what you see? Visit the ' +\n",
              "          '<a target=\"_blank\" href=https://colab.research.google.com/notebooks/data_table.ipynb>data table notebook</a>'\n",
              "          + ' to learn more about interactive tables.';\n",
              "        element.innerHTML = '';\n",
              "        dataTable['output_type'] = 'display_data';\n",
              "        await google.colab.output.renderOutput(dataTable, element);\n",
              "        const docLink = document.createElement('div');\n",
              "        docLink.innerHTML = docLinkHtml;\n",
              "        element.appendChild(docLink);\n",
              "      }\n",
              "    </script>\n",
              "  </div>\n",
              "\n",
              "\n",
              "    <div id=\"df-6da6ef49-36fc-4dbe-9c0d-9eea7ee3c5de\">\n",
              "      <button class=\"colab-df-quickchart\" onclick=\"quickchart('df-6da6ef49-36fc-4dbe-9c0d-9eea7ee3c5de')\"\n",
              "                title=\"Suggest charts\"\n",
              "                style=\"display:none;\">\n",
              "\n",
              "<svg xmlns=\"http://www.w3.org/2000/svg\" height=\"24px\"viewBox=\"0 0 24 24\"\n",
              "     width=\"24px\">\n",
              "    <g>\n",
              "        <path d=\"M19 3H5c-1.1 0-2 .9-2 2v14c0 1.1.9 2 2 2h14c1.1 0 2-.9 2-2V5c0-1.1-.9-2-2-2zM9 17H7v-7h2v7zm4 0h-2V7h2v10zm4 0h-2v-4h2v4z\"/>\n",
              "    </g>\n",
              "</svg>\n",
              "      </button>\n",
              "\n",
              "<style>\n",
              "  .colab-df-quickchart {\n",
              "      --bg-color: #E8F0FE;\n",
              "      --fill-color: #1967D2;\n",
              "      --hover-bg-color: #E2EBFA;\n",
              "      --hover-fill-color: #174EA6;\n",
              "      --disabled-fill-color: #AAA;\n",
              "      --disabled-bg-color: #DDD;\n",
              "  }\n",
              "\n",
              "  [theme=dark] .colab-df-quickchart {\n",
              "      --bg-color: #3B4455;\n",
              "      --fill-color: #D2E3FC;\n",
              "      --hover-bg-color: #434B5C;\n",
              "      --hover-fill-color: #FFFFFF;\n",
              "      --disabled-bg-color: #3B4455;\n",
              "      --disabled-fill-color: #666;\n",
              "  }\n",
              "\n",
              "  .colab-df-quickchart {\n",
              "    background-color: var(--bg-color);\n",
              "    border: none;\n",
              "    border-radius: 50%;\n",
              "    cursor: pointer;\n",
              "    display: none;\n",
              "    fill: var(--fill-color);\n",
              "    height: 32px;\n",
              "    padding: 0;\n",
              "    width: 32px;\n",
              "  }\n",
              "\n",
              "  .colab-df-quickchart:hover {\n",
              "    background-color: var(--hover-bg-color);\n",
              "    box-shadow: 0 1px 2px rgba(60, 64, 67, 0.3), 0 1px 3px 1px rgba(60, 64, 67, 0.15);\n",
              "    fill: var(--button-hover-fill-color);\n",
              "  }\n",
              "\n",
              "  .colab-df-quickchart-complete:disabled,\n",
              "  .colab-df-quickchart-complete:disabled:hover {\n",
              "    background-color: var(--disabled-bg-color);\n",
              "    fill: var(--disabled-fill-color);\n",
              "    box-shadow: none;\n",
              "  }\n",
              "\n",
              "  .colab-df-spinner {\n",
              "    border: 2px solid var(--fill-color);\n",
              "    border-color: transparent;\n",
              "    border-bottom-color: var(--fill-color);\n",
              "    animation:\n",
              "      spin 1s steps(1) infinite;\n",
              "  }\n",
              "\n",
              "  @keyframes spin {\n",
              "    0% {\n",
              "      border-color: transparent;\n",
              "      border-bottom-color: var(--fill-color);\n",
              "      border-left-color: var(--fill-color);\n",
              "    }\n",
              "    20% {\n",
              "      border-color: transparent;\n",
              "      border-left-color: var(--fill-color);\n",
              "      border-top-color: var(--fill-color);\n",
              "    }\n",
              "    30% {\n",
              "      border-color: transparent;\n",
              "      border-left-color: var(--fill-color);\n",
              "      border-top-color: var(--fill-color);\n",
              "      border-right-color: var(--fill-color);\n",
              "    }\n",
              "    40% {\n",
              "      border-color: transparent;\n",
              "      border-right-color: var(--fill-color);\n",
              "      border-top-color: var(--fill-color);\n",
              "    }\n",
              "    60% {\n",
              "      border-color: transparent;\n",
              "      border-right-color: var(--fill-color);\n",
              "    }\n",
              "    80% {\n",
              "      border-color: transparent;\n",
              "      border-right-color: var(--fill-color);\n",
              "      border-bottom-color: var(--fill-color);\n",
              "    }\n",
              "    90% {\n",
              "      border-color: transparent;\n",
              "      border-bottom-color: var(--fill-color);\n",
              "    }\n",
              "  }\n",
              "</style>\n",
              "\n",
              "      <script>\n",
              "        async function quickchart(key) {\n",
              "          const quickchartButtonEl =\n",
              "            document.querySelector('#' + key + ' button');\n",
              "          quickchartButtonEl.disabled = true;  // To prevent multiple clicks.\n",
              "          quickchartButtonEl.classList.add('colab-df-spinner');\n",
              "          try {\n",
              "            const charts = await google.colab.kernel.invokeFunction(\n",
              "                'suggestCharts', [key], {});\n",
              "          } catch (error) {\n",
              "            console.error('Error during call to suggestCharts:', error);\n",
              "          }\n",
              "          quickchartButtonEl.classList.remove('colab-df-spinner');\n",
              "          quickchartButtonEl.classList.add('colab-df-quickchart-complete');\n",
              "        }\n",
              "        (() => {\n",
              "          let quickchartButtonEl =\n",
              "            document.querySelector('#df-6da6ef49-36fc-4dbe-9c0d-9eea7ee3c5de button');\n",
              "          quickchartButtonEl.style.display =\n",
              "            google.colab.kernel.accessAllowed ? 'block' : 'none';\n",
              "        })();\n",
              "      </script>\n",
              "    </div>\n",
              "\n",
              "    </div>\n",
              "  </div>\n"
            ],
            "text/plain": [
              "     Student_ID  Age  Gender Academic_Level      Country  \\\n",
              "104         105   22    Male       Graduate  Afghanistan   \n",
              "165         166   21    Male       Graduate     Maldives   \n",
              "121         122   21  Female       Graduate     Maldives   \n",
              "613         614   21    Male  Undergraduate       Canada   \n",
              "247         248   22    Male       Graduate      Germany   \n",
              "\n",
              "     Avg_Daily_Usage_Hours Most_Used_Platform Affects_Academic_Performance  \\\n",
              "104                    2.9           LinkedIn                           No   \n",
              "165                    5.4             TikTok                          Yes   \n",
              "121                    4.6          Instagram                           No   \n",
              "613                    5.7          Instagram                          Yes   \n",
              "247                    3.9          Instagram                           No   \n",
              "\n",
              "     Sleep_Hours_Per_Night  Mental_Health_Score Relationship_Status  \\\n",
              "104                    7.0                    7         Complicated   \n",
              "165                    6.0                    6     In Relationship   \n",
              "121                    7.4                    8     In Relationship   \n",
              "613                    6.7                    6              Single   \n",
              "247                    7.8                    8              Single   \n",
              "\n",
              "     Conflicts_Over_Social_Media  Addicted_Score  \n",
              "104                            2               5  \n",
              "165                            4               8  \n",
              "121                            2               5  \n",
              "613                            3               7  \n",
              "247                            1               4  "
            ]
          },
          "execution_count": 58,
          "metadata": {},
          "output_type": "execute_result"
        }
      ],
      "source": [
        "# Showing a random sample of 5 records\n",
        "\n",
        "df.sample(5)"
      ]
    },
    {
      "cell_type": "code",
      "execution_count": null,
      "metadata": {
        "colab": {
          "base_uri": "https://localhost:8080/"
        },
        "id": "r9fgC7s345rO",
        "outputId": "e490a74a-11ac-4b7d-c2c8-113dd045ead8"
      },
      "outputs": [
        {
          "name": "stdout",
          "output_type": "stream",
          "text": [
            "Number of rows: 705\n",
            "Number of columns: 13\n"
          ]
        }
      ],
      "source": [
        "# Check the number of columns and rows in the dataframe\n",
        "\n",
        "print('Number of rows:', df.shape[0])\n",
        "print('Number of columns:', df.shape[1])"
      ]
    },
    {
      "cell_type": "code",
      "execution_count": null,
      "metadata": {
        "colab": {
          "base_uri": "https://localhost:8080/",
          "height": 300
        },
        "id": "05pHhOXO5t1v",
        "outputId": "94343629-0983-4e1d-8134-1ae0a0e3ca9e"
      },
      "outputs": [
        {
          "data": {
            "application/vnd.google.colaboratory.intrinsic+json": {
              "summary": "{\n  \"name\": \"df\",\n  \"rows\": 8,\n  \"fields\": [\n    {\n      \"column\": \"Student_ID\",\n      \"properties\": {\n        \"dtype\": \"number\",\n        \"std\": 253.7806875489316,\n        \"min\": 1.0,\n        \"max\": 705.0,\n        \"num_unique_values\": 6,\n        \"samples\": [\n          705.0,\n          353.0,\n          529.0\n        ],\n        \"semantic_type\": \"\",\n        \"description\": \"\"\n      }\n    },\n    {\n      \"column\": \"Age\",\n      \"properties\": {\n        \"dtype\": \"number\",\n        \"std\": 242.9895460341682,\n        \"min\": 1.399217451919569,\n        \"max\": 705.0,\n        \"num_unique_values\": 8,\n        \"samples\": [\n          20.659574468085108,\n          21.0,\n          705.0\n        ],\n        \"semantic_type\": \"\",\n        \"description\": \"\"\n      }\n    },\n    {\n      \"column\": \"Avg_Daily_Usage_Hours\",\n      \"properties\": {\n        \"dtype\": \"number\",\n        \"std\": 247.70649604040395,\n        \"min\": 1.2573945210731428,\n        \"max\": 705.0,\n        \"num_unique_values\": 8,\n        \"samples\": [\n          4.918723404255319,\n          4.8,\n          705.0\n        ],\n        \"semantic_type\": \"\",\n        \"description\": \"\"\n      }\n    },\n    {\n      \"column\": \"Sleep_Hours_Per_Night\",\n      \"properties\": {\n        \"dtype\": \"number\",\n        \"std\": 247.14732863700502,\n        \"min\": 1.126848041531804,\n        \"max\": 705.0,\n        \"num_unique_values\": 8,\n        \"samples\": [\n          6.868936170212766,\n          6.9,\n          705.0\n        ],\n        \"semantic_type\": \"\",\n        \"description\": \"\"\n      }\n    },\n    {\n      \"column\": \"Mental_Health_Score\",\n      \"properties\": {\n        \"dtype\": \"number\",\n        \"std\": 247.32979347807313,\n        \"min\": 1.1050554948415823,\n        \"max\": 705.0,\n        \"num_unique_values\": 8,\n        \"samples\": [\n          6.226950354609929,\n          6.0,\n          705.0\n        ],\n        \"semantic_type\": \"\",\n        \"description\": \"\"\n      }\n    },\n    {\n      \"column\": \"Conflicts_Over_Social_Media\",\n      \"properties\": {\n        \"dtype\": \"number\",\n        \"std\": 248.36082117759048,\n        \"min\": 0.0,\n        \"max\": 705.0,\n        \"num_unique_values\": 8,\n        \"samples\": [\n          2.849645390070922,\n          3.0,\n          705.0\n        ],\n        \"semantic_type\": \"\",\n        \"description\": \"\"\n      }\n    },\n    {\n      \"column\": \"Addicted_Score\",\n      \"properties\": {\n        \"dtype\": \"number\",\n        \"std\": 247.29839702134547,\n        \"min\": 1.5871649318688412,\n        \"max\": 705.0,\n        \"num_unique_values\": 8,\n        \"samples\": [\n          6.436879432624114,\n          7.0,\n          705.0\n        ],\n        \"semantic_type\": \"\",\n        \"description\": \"\"\n      }\n    }\n  ]\n}",
              "type": "dataframe"
            },
            "text/html": [
              "\n",
              "  <div id=\"df-f27d8171-3677-4b29-abd2-840ee254ca6a\" class=\"colab-df-container\">\n",
              "    <div>\n",
              "<style scoped>\n",
              "    .dataframe tbody tr th:only-of-type {\n",
              "        vertical-align: middle;\n",
              "    }\n",
              "\n",
              "    .dataframe tbody tr th {\n",
              "        vertical-align: top;\n",
              "    }\n",
              "\n",
              "    .dataframe thead th {\n",
              "        text-align: right;\n",
              "    }\n",
              "</style>\n",
              "<table border=\"1\" class=\"dataframe\">\n",
              "  <thead>\n",
              "    <tr style=\"text-align: right;\">\n",
              "      <th></th>\n",
              "      <th>Student_ID</th>\n",
              "      <th>Age</th>\n",
              "      <th>Avg_Daily_Usage_Hours</th>\n",
              "      <th>Sleep_Hours_Per_Night</th>\n",
              "      <th>Mental_Health_Score</th>\n",
              "      <th>Conflicts_Over_Social_Media</th>\n",
              "      <th>Addicted_Score</th>\n",
              "    </tr>\n",
              "  </thead>\n",
              "  <tbody>\n",
              "    <tr>\n",
              "      <th>count</th>\n",
              "      <td>705.000000</td>\n",
              "      <td>705.000000</td>\n",
              "      <td>705.000000</td>\n",
              "      <td>705.000000</td>\n",
              "      <td>705.000000</td>\n",
              "      <td>705.000000</td>\n",
              "      <td>705.000000</td>\n",
              "    </tr>\n",
              "    <tr>\n",
              "      <th>mean</th>\n",
              "      <td>353.000000</td>\n",
              "      <td>20.659574</td>\n",
              "      <td>4.918723</td>\n",
              "      <td>6.868936</td>\n",
              "      <td>6.226950</td>\n",
              "      <td>2.849645</td>\n",
              "      <td>6.436879</td>\n",
              "    </tr>\n",
              "    <tr>\n",
              "      <th>std</th>\n",
              "      <td>203.660256</td>\n",
              "      <td>1.399217</td>\n",
              "      <td>1.257395</td>\n",
              "      <td>1.126848</td>\n",
              "      <td>1.105055</td>\n",
              "      <td>0.957968</td>\n",
              "      <td>1.587165</td>\n",
              "    </tr>\n",
              "    <tr>\n",
              "      <th>min</th>\n",
              "      <td>1.000000</td>\n",
              "      <td>18.000000</td>\n",
              "      <td>1.500000</td>\n",
              "      <td>3.800000</td>\n",
              "      <td>4.000000</td>\n",
              "      <td>0.000000</td>\n",
              "      <td>2.000000</td>\n",
              "    </tr>\n",
              "    <tr>\n",
              "      <th>25%</th>\n",
              "      <td>177.000000</td>\n",
              "      <td>19.000000</td>\n",
              "      <td>4.100000</td>\n",
              "      <td>6.000000</td>\n",
              "      <td>5.000000</td>\n",
              "      <td>2.000000</td>\n",
              "      <td>5.000000</td>\n",
              "    </tr>\n",
              "    <tr>\n",
              "      <th>50%</th>\n",
              "      <td>353.000000</td>\n",
              "      <td>21.000000</td>\n",
              "      <td>4.800000</td>\n",
              "      <td>6.900000</td>\n",
              "      <td>6.000000</td>\n",
              "      <td>3.000000</td>\n",
              "      <td>7.000000</td>\n",
              "    </tr>\n",
              "    <tr>\n",
              "      <th>75%</th>\n",
              "      <td>529.000000</td>\n",
              "      <td>22.000000</td>\n",
              "      <td>5.800000</td>\n",
              "      <td>7.700000</td>\n",
              "      <td>7.000000</td>\n",
              "      <td>4.000000</td>\n",
              "      <td>8.000000</td>\n",
              "    </tr>\n",
              "    <tr>\n",
              "      <th>max</th>\n",
              "      <td>705.000000</td>\n",
              "      <td>24.000000</td>\n",
              "      <td>8.500000</td>\n",
              "      <td>9.600000</td>\n",
              "      <td>9.000000</td>\n",
              "      <td>5.000000</td>\n",
              "      <td>9.000000</td>\n",
              "    </tr>\n",
              "  </tbody>\n",
              "</table>\n",
              "</div>\n",
              "    <div class=\"colab-df-buttons\">\n",
              "\n",
              "  <div class=\"colab-df-container\">\n",
              "    <button class=\"colab-df-convert\" onclick=\"convertToInteractive('df-f27d8171-3677-4b29-abd2-840ee254ca6a')\"\n",
              "            title=\"Convert this dataframe to an interactive table.\"\n",
              "            style=\"display:none;\">\n",
              "\n",
              "  <svg xmlns=\"http://www.w3.org/2000/svg\" height=\"24px\" viewBox=\"0 -960 960 960\">\n",
              "    <path d=\"M120-120v-720h720v720H120Zm60-500h600v-160H180v160Zm220 220h160v-160H400v160Zm0 220h160v-160H400v160ZM180-400h160v-160H180v160Zm440 0h160v-160H620v160ZM180-180h160v-160H180v160Zm440 0h160v-160H620v160Z\"/>\n",
              "  </svg>\n",
              "    </button>\n",
              "\n",
              "  <style>\n",
              "    .colab-df-container {\n",
              "      display:flex;\n",
              "      gap: 12px;\n",
              "    }\n",
              "\n",
              "    .colab-df-convert {\n",
              "      background-color: #E8F0FE;\n",
              "      border: none;\n",
              "      border-radius: 50%;\n",
              "      cursor: pointer;\n",
              "      display: none;\n",
              "      fill: #1967D2;\n",
              "      height: 32px;\n",
              "      padding: 0 0 0 0;\n",
              "      width: 32px;\n",
              "    }\n",
              "\n",
              "    .colab-df-convert:hover {\n",
              "      background-color: #E2EBFA;\n",
              "      box-shadow: 0px 1px 2px rgba(60, 64, 67, 0.3), 0px 1px 3px 1px rgba(60, 64, 67, 0.15);\n",
              "      fill: #174EA6;\n",
              "    }\n",
              "\n",
              "    .colab-df-buttons div {\n",
              "      margin-bottom: 4px;\n",
              "    }\n",
              "\n",
              "    [theme=dark] .colab-df-convert {\n",
              "      background-color: #3B4455;\n",
              "      fill: #D2E3FC;\n",
              "    }\n",
              "\n",
              "    [theme=dark] .colab-df-convert:hover {\n",
              "      background-color: #434B5C;\n",
              "      box-shadow: 0px 1px 3px 1px rgba(0, 0, 0, 0.15);\n",
              "      filter: drop-shadow(0px 1px 2px rgba(0, 0, 0, 0.3));\n",
              "      fill: #FFFFFF;\n",
              "    }\n",
              "  </style>\n",
              "\n",
              "    <script>\n",
              "      const buttonEl =\n",
              "        document.querySelector('#df-f27d8171-3677-4b29-abd2-840ee254ca6a button.colab-df-convert');\n",
              "      buttonEl.style.display =\n",
              "        google.colab.kernel.accessAllowed ? 'block' : 'none';\n",
              "\n",
              "      async function convertToInteractive(key) {\n",
              "        const element = document.querySelector('#df-f27d8171-3677-4b29-abd2-840ee254ca6a');\n",
              "        const dataTable =\n",
              "          await google.colab.kernel.invokeFunction('convertToInteractive',\n",
              "                                                    [key], {});\n",
              "        if (!dataTable) return;\n",
              "\n",
              "        const docLinkHtml = 'Like what you see? Visit the ' +\n",
              "          '<a target=\"_blank\" href=https://colab.research.google.com/notebooks/data_table.ipynb>data table notebook</a>'\n",
              "          + ' to learn more about interactive tables.';\n",
              "        element.innerHTML = '';\n",
              "        dataTable['output_type'] = 'display_data';\n",
              "        await google.colab.output.renderOutput(dataTable, element);\n",
              "        const docLink = document.createElement('div');\n",
              "        docLink.innerHTML = docLinkHtml;\n",
              "        element.appendChild(docLink);\n",
              "      }\n",
              "    </script>\n",
              "  </div>\n",
              "\n",
              "\n",
              "    <div id=\"df-c0d1747b-3c10-4450-b81e-03492b1e2e1e\">\n",
              "      <button class=\"colab-df-quickchart\" onclick=\"quickchart('df-c0d1747b-3c10-4450-b81e-03492b1e2e1e')\"\n",
              "                title=\"Suggest charts\"\n",
              "                style=\"display:none;\">\n",
              "\n",
              "<svg xmlns=\"http://www.w3.org/2000/svg\" height=\"24px\"viewBox=\"0 0 24 24\"\n",
              "     width=\"24px\">\n",
              "    <g>\n",
              "        <path d=\"M19 3H5c-1.1 0-2 .9-2 2v14c0 1.1.9 2 2 2h14c1.1 0 2-.9 2-2V5c0-1.1-.9-2-2-2zM9 17H7v-7h2v7zm4 0h-2V7h2v10zm4 0h-2v-4h2v4z\"/>\n",
              "    </g>\n",
              "</svg>\n",
              "      </button>\n",
              "\n",
              "<style>\n",
              "  .colab-df-quickchart {\n",
              "      --bg-color: #E8F0FE;\n",
              "      --fill-color: #1967D2;\n",
              "      --hover-bg-color: #E2EBFA;\n",
              "      --hover-fill-color: #174EA6;\n",
              "      --disabled-fill-color: #AAA;\n",
              "      --disabled-bg-color: #DDD;\n",
              "  }\n",
              "\n",
              "  [theme=dark] .colab-df-quickchart {\n",
              "      --bg-color: #3B4455;\n",
              "      --fill-color: #D2E3FC;\n",
              "      --hover-bg-color: #434B5C;\n",
              "      --hover-fill-color: #FFFFFF;\n",
              "      --disabled-bg-color: #3B4455;\n",
              "      --disabled-fill-color: #666;\n",
              "  }\n",
              "\n",
              "  .colab-df-quickchart {\n",
              "    background-color: var(--bg-color);\n",
              "    border: none;\n",
              "    border-radius: 50%;\n",
              "    cursor: pointer;\n",
              "    display: none;\n",
              "    fill: var(--fill-color);\n",
              "    height: 32px;\n",
              "    padding: 0;\n",
              "    width: 32px;\n",
              "  }\n",
              "\n",
              "  .colab-df-quickchart:hover {\n",
              "    background-color: var(--hover-bg-color);\n",
              "    box-shadow: 0 1px 2px rgba(60, 64, 67, 0.3), 0 1px 3px 1px rgba(60, 64, 67, 0.15);\n",
              "    fill: var(--button-hover-fill-color);\n",
              "  }\n",
              "\n",
              "  .colab-df-quickchart-complete:disabled,\n",
              "  .colab-df-quickchart-complete:disabled:hover {\n",
              "    background-color: var(--disabled-bg-color);\n",
              "    fill: var(--disabled-fill-color);\n",
              "    box-shadow: none;\n",
              "  }\n",
              "\n",
              "  .colab-df-spinner {\n",
              "    border: 2px solid var(--fill-color);\n",
              "    border-color: transparent;\n",
              "    border-bottom-color: var(--fill-color);\n",
              "    animation:\n",
              "      spin 1s steps(1) infinite;\n",
              "  }\n",
              "\n",
              "  @keyframes spin {\n",
              "    0% {\n",
              "      border-color: transparent;\n",
              "      border-bottom-color: var(--fill-color);\n",
              "      border-left-color: var(--fill-color);\n",
              "    }\n",
              "    20% {\n",
              "      border-color: transparent;\n",
              "      border-left-color: var(--fill-color);\n",
              "      border-top-color: var(--fill-color);\n",
              "    }\n",
              "    30% {\n",
              "      border-color: transparent;\n",
              "      border-left-color: var(--fill-color);\n",
              "      border-top-color: var(--fill-color);\n",
              "      border-right-color: var(--fill-color);\n",
              "    }\n",
              "    40% {\n",
              "      border-color: transparent;\n",
              "      border-right-color: var(--fill-color);\n",
              "      border-top-color: var(--fill-color);\n",
              "    }\n",
              "    60% {\n",
              "      border-color: transparent;\n",
              "      border-right-color: var(--fill-color);\n",
              "    }\n",
              "    80% {\n",
              "      border-color: transparent;\n",
              "      border-right-color: var(--fill-color);\n",
              "      border-bottom-color: var(--fill-color);\n",
              "    }\n",
              "    90% {\n",
              "      border-color: transparent;\n",
              "      border-bottom-color: var(--fill-color);\n",
              "    }\n",
              "  }\n",
              "</style>\n",
              "\n",
              "      <script>\n",
              "        async function quickchart(key) {\n",
              "          const quickchartButtonEl =\n",
              "            document.querySelector('#' + key + ' button');\n",
              "          quickchartButtonEl.disabled = true;  // To prevent multiple clicks.\n",
              "          quickchartButtonEl.classList.add('colab-df-spinner');\n",
              "          try {\n",
              "            const charts = await google.colab.kernel.invokeFunction(\n",
              "                'suggestCharts', [key], {});\n",
              "          } catch (error) {\n",
              "            console.error('Error during call to suggestCharts:', error);\n",
              "          }\n",
              "          quickchartButtonEl.classList.remove('colab-df-spinner');\n",
              "          quickchartButtonEl.classList.add('colab-df-quickchart-complete');\n",
              "        }\n",
              "        (() => {\n",
              "          let quickchartButtonEl =\n",
              "            document.querySelector('#df-c0d1747b-3c10-4450-b81e-03492b1e2e1e button');\n",
              "          quickchartButtonEl.style.display =\n",
              "            google.colab.kernel.accessAllowed ? 'block' : 'none';\n",
              "        })();\n",
              "      </script>\n",
              "    </div>\n",
              "\n",
              "    </div>\n",
              "  </div>\n"
            ],
            "text/plain": [
              "       Student_ID         Age  Avg_Daily_Usage_Hours  Sleep_Hours_Per_Night  \\\n",
              "count  705.000000  705.000000             705.000000             705.000000   \n",
              "mean   353.000000   20.659574               4.918723               6.868936   \n",
              "std    203.660256    1.399217               1.257395               1.126848   \n",
              "min      1.000000   18.000000               1.500000               3.800000   \n",
              "25%    177.000000   19.000000               4.100000               6.000000   \n",
              "50%    353.000000   21.000000               4.800000               6.900000   \n",
              "75%    529.000000   22.000000               5.800000               7.700000   \n",
              "max    705.000000   24.000000               8.500000               9.600000   \n",
              "\n",
              "       Mental_Health_Score  Conflicts_Over_Social_Media  Addicted_Score  \n",
              "count           705.000000                   705.000000      705.000000  \n",
              "mean              6.226950                     2.849645        6.436879  \n",
              "std               1.105055                     0.957968        1.587165  \n",
              "min               4.000000                     0.000000        2.000000  \n",
              "25%               5.000000                     2.000000        5.000000  \n",
              "50%               6.000000                     3.000000        7.000000  \n",
              "75%               7.000000                     4.000000        8.000000  \n",
              "max               9.000000                     5.000000        9.000000  "
            ]
          },
          "execution_count": 60,
          "metadata": {},
          "output_type": "execute_result"
        }
      ],
      "source": [
        "# Descriptive view of the dataframe\n",
        "\n",
        "df.describe()"
      ]
    },
    {
      "cell_type": "markdown",
      "metadata": {
        "id": "K9NvsB9Xb8nN"
      },
      "source": [
        "#Data Cleaning"
      ]
    },
    {
      "cell_type": "markdown",
      "metadata": {
        "id": "kXI5tkSR6I6b"
      },
      "source": [
        " **Handle missing values, if any**"
      ]
    },
    {
      "cell_type": "code",
      "execution_count": null,
      "metadata": {
        "colab": {
          "base_uri": "https://localhost:8080/"
        },
        "id": "I2kWvjpzb8yd",
        "outputId": "d56c2b89-d3bd-4490-ea8c-2da3600189f1"
      },
      "outputs": [
        {
          "name": "stdout",
          "output_type": "stream",
          "text": [
            "Missing Values:\n",
            " Student_ID                      0\n",
            "Age                             0\n",
            "Gender                          0\n",
            "Academic_Level                  0\n",
            "Country                         0\n",
            "Avg_Daily_Usage_Hours           0\n",
            "Most_Used_Platform              0\n",
            "Affects_Academic_Performance    0\n",
            "Sleep_Hours_Per_Night           0\n",
            "Mental_Health_Score             0\n",
            "Relationship_Status             0\n",
            "Conflicts_Over_Social_Media     0\n",
            "Addicted_Score                  0\n",
            "dtype: int64\n"
          ]
        }
      ],
      "source": [
        "# Checking for any missing values in the dataset\n",
        "\n",
        "print(\"Missing Values:\\n\", df.isnull().sum())"
      ]
    },
    {
      "cell_type": "markdown",
      "metadata": {
        "id": "9iYH5mny61Fb"
      },
      "source": [
        "---\n",
        "- *From the above code we found that there are no null values*\n",
        "- *But if there were any null values then to handle missing values following will be applied*\n",
        "\n",
        "---"
      ]
    },
    {
      "cell_type": "markdown",
      "metadata": {
        "id": "6pgvTU8w8mFi"
      },
      "source": [
        "**We can use two methods for cleaning null values**"
      ]
    },
    {
      "cell_type": "markdown",
      "metadata": {
        "id": "bW429DQT8rGK"
      },
      "source": [
        "1. Dropping the null value rows"
      ]
    },
    {
      "cell_type": "code",
      "execution_count": null,
      "metadata": {
        "id": "LCy0AMqz6h-v"
      },
      "outputs": [],
      "source": [
        "\n",
        "df.dropna(inplace = True)\n"
      ]
    },
    {
      "cell_type": "markdown",
      "metadata": {
        "id": "3pXuUg3l82LW"
      },
      "source": [
        "2. Filling missing values in numerical columns with the mean of the column"
      ]
    },
    {
      "cell_type": "code",
      "execution_count": null,
      "metadata": {
        "colab": {
          "base_uri": "https://localhost:8080/"
        },
        "id": "WOtMEvDK86Bb",
        "outputId": "c946c45c-977d-4242-8fa8-c15c6295cd98"
      },
      "outputs": [
        {
          "name": "stdout",
          "output_type": "stream",
          "text": [
            "Missing values BEFORE applying fillna:\n",
            "Student_ID                      0\n",
            "Age                             0\n",
            "Gender                          0\n",
            "Academic_Level                  0\n",
            "Country                         0\n",
            "Avg_Daily_Usage_Hours           0\n",
            "Most_Used_Platform              0\n",
            "Affects_Academic_Performance    0\n",
            "Sleep_Hours_Per_Night           0\n",
            "Mental_Health_Score             0\n",
            "Relationship_Status             0\n",
            "Conflicts_Over_Social_Media     0\n",
            "Addicted_Score                  0\n",
            "dtype: int64\n",
            "--------------------------------------------------\n",
            "\n",
            "Missing values AFTER applying fillna:\n",
            "Student_ID                      0\n",
            "Age                             0\n",
            "Gender                          0\n",
            "Academic_Level                  0\n",
            "Country                         0\n",
            "Avg_Daily_Usage_Hours           0\n",
            "Most_Used_Platform              0\n",
            "Affects_Academic_Performance    0\n",
            "Sleep_Hours_Per_Night           0\n",
            "Mental_Health_Score             0\n",
            "Relationship_Status             0\n",
            "Conflicts_Over_Social_Media     0\n",
            "Addicted_Score                  0\n",
            "dtype: int64\n"
          ]
        }
      ],
      "source": [
        "# Checking missing values before applying fillna\n",
        "print(\"Missing values BEFORE applying fillna:\")\n",
        "print(df.isnull().sum())\n",
        "print('-' * 50)\n",
        "\n",
        "numerical_cols = df.select_dtypes(include = np.number).columns\n",
        "\n",
        "for col in numerical_cols:\n",
        "    df[col].fillna(df[col].mean(), inplace = True)\n",
        "\n",
        "# Checking missing values after applying fillna\n",
        "print(\"\\nMissing values AFTER applying fillna:\")\n",
        "print(df.isnull().sum())"
      ]
    },
    {
      "cell_type": "code",
      "execution_count": null,
      "metadata": {
        "colab": {
          "base_uri": "https://localhost:8080/"
        },
        "id": "WXVTDrft9Ars",
        "outputId": "36622c2c-fcbf-45c8-873d-54a5a5b9c040"
      },
      "outputs": [
        {
          "name": "stdout",
          "output_type": "stream",
          "text": [
            "\n",
            "Data Types:\n",
            " Student_ID                        int64\n",
            "Age                               int64\n",
            "Gender                           object\n",
            "Academic_Level                   object\n",
            "Country                          object\n",
            "Avg_Daily_Usage_Hours           float64\n",
            "Most_Used_Platform               object\n",
            "Affects_Academic_Performance     object\n",
            "Sleep_Hours_Per_Night           float64\n",
            "Mental_Health_Score               int64\n",
            "Relationship_Status              object\n",
            "Conflicts_Over_Social_Media       int64\n",
            "Addicted_Score                    int64\n",
            "Risk_Level                       object\n",
            "Detox_Suggestion                 object\n",
            "dtype: object\n"
          ]
        }
      ],
      "source": [
        "\n",
        "print(\"\\nData Types:\\n\", df.dtypes)  # Checking data types of each column\n",
        "\n",
        "# No missing values or type correction needed (based on data); if required then\n",
        "# we use convert. For example: df['Age'] = df['Age'].astype(int)"
      ]
    },
    {
      "cell_type": "markdown",
      "metadata": {
        "id": "F1hLI43l9Q57"
      },
      "source": [
        "---\n",
        "- *As seen on the above result datatypes are good and does not require any cleaning*\n",
        "- *But if there were any dataypes mismatch then we can use the following*\n",
        "---"
      ]
    },
    {
      "cell_type": "markdown",
      "metadata": {
        "id": "UpRt2BUK9eIU"
      },
      "source": [
        "**We can use two methods for datatype correction**"
      ]
    },
    {
      "cell_type": "markdown",
      "metadata": {
        "id": "GuY_6I6P9mOr"
      },
      "source": [
        "1. Using astype()"
      ]
    },
    {
      "cell_type": "code",
      "execution_count": null,
      "metadata": {
        "id": "Gh99WLT89o58"
      },
      "outputs": [],
      "source": [
        "# if Age column (integer) had incorrect datatype, the following code will fix it\n",
        "\n",
        "df['Age'] = df['Age'].astype(int)\n"
      ]
    },
    {
      "cell_type": "markdown",
      "metadata": {
        "id": "oXr0qf779uMe"
      },
      "source": [
        "2. using pd.to_numeric()"
      ]
    },
    {
      "cell_type": "code",
      "execution_count": null,
      "metadata": {
        "colab": {
          "base_uri": "https://localhost:8080/"
        },
        "id": "9Jwqn_9C9uYs",
        "outputId": "1630dc66-7d9f-4e53-8d8b-1aa0832e6ae6"
      },
      "outputs": [
        {
          "name": "stdout",
          "output_type": "stream",
          "text": [
            "\n",
            "Datatype of 'Avg_Daily_Usage_Hours' BEFORE conversion:\n",
            "float64\n",
            "--------------------------------------------------------------------------------\n",
            "\n",
            "Number of non-numeric values after converting 'Avg_Daily_Usage_Hours':\n",
            "0\n",
            "--------------------------------------------------------------------------------\n",
            "\n",
            "Datatype of 'Avg_Daily_Usage_Hours' AFTER conversion:\n",
            "float64\n"
          ]
        }
      ],
      "source": [
        "# Check the datatype before conversion\n",
        "print(\"\\nDatatype of 'Avg_Daily_Usage_Hours' BEFORE conversion:\")\n",
        "print(df['Avg_Daily_Usage_Hours'].dtype)\n",
        "print('-' * 80)\n",
        "\n",
        "# Convert 'Avg_Daily_Usage_Hours' to numeric\n",
        "df['Avg_Daily_Usage_Hours'] = pd.to_numeric(df['Avg_Daily_Usage_Hours'], errors = 'coerce')\n",
        "\n",
        "# Check for any values that couldn't be converted\n",
        "print(\"\\nNumber of non-numeric values after converting 'Avg_Daily_Usage_Hours':\")\n",
        "print(df['Avg_Daily_Usage_Hours'].isnull().sum())\n",
        "print('-' * 80)\n",
        "\n",
        "# Verify the datatype\n",
        "print(\"\\nDatatype of 'Avg_Daily_Usage_Hours' AFTER conversion:\")\n",
        "print(df['Avg_Daily_Usage_Hours'].dtype)"
      ]
    },
    {
      "cell_type": "markdown",
      "metadata": {
        "id": "A4MiQ2KmcuXu"
      },
      "source": [
        "### Understanding relationships between Age, Gender & Daily Usage"
      ]
    },
    {
      "cell_type": "code",
      "execution_count": null,
      "metadata": {
        "colab": {
          "base_uri": "https://localhost:8080/"
        },
        "id": "vxf0-bKHb9go",
        "outputId": "eca8be08-0f14-4230-8abd-f3e2b21746cc"
      },
      "outputs": [
        {
          "name": "stdout",
          "output_type": "stream",
          "text": [
            "Average Daily Usage by Age:\n",
            "Age\n",
            "18    5.385714\n",
            "19    5.120245\n",
            "20    4.930303\n",
            "21    4.950641\n",
            "22    4.676190\n",
            "23    4.508824\n",
            "24    5.046154\n",
            "Name: Avg_Daily_Usage_Hours, dtype: float64\n",
            "\n",
            "--------------------------------------------------\n",
            "\n",
            "Average Daily Usage by Gender:\n",
            "Gender\n",
            "Female    5.011048\n",
            "Male      4.826136\n",
            "Name: Avg_Daily_Usage_Hours, dtype: float64\n"
          ]
        }
      ],
      "source": [
        "# Average daily usage hours by age\n",
        "usage_by_age = df.groupby('Age')['Avg_Daily_Usage_Hours'].mean()\n",
        "print(\"Average Daily Usage by Age:\")\n",
        "print(f\"{usage_by_age}\\n\")\n",
        "print('-' * 50)\n",
        "\n",
        "# Average daily usage hours by gender\n",
        "print(\"\\nAverage Daily Usage by Gender:\")\n",
        "usage_by_gender = df.groupby('Gender')['Avg_Daily_Usage_Hours'].mean()\n",
        "print(usage_by_gender)"
      ]
    },
    {
      "cell_type": "markdown",
      "metadata": {
        "id": "yEGtsUuv_093"
      },
      "source": [
        "---\n",
        "**Age, Gender & Daily Usage data observations :**\n",
        "- *Students aged 18 tend to have the highest average daily usage, while students aged 23 tend to have the lowest*.\n",
        "- *The average daily social media usage is slightly higher for female students compared to male students*.\n",
        "---"
      ]
    },
    {
      "cell_type": "markdown",
      "metadata": {
        "id": "rhMm_2wGb9vN"
      },
      "source": [
        "**bold text**  Understanding relationships between Sleep patterns, Academic performance & Social interaction"
      ]
    },
    {
      "cell_type": "code",
      "execution_count": null,
      "metadata": {
        "colab": {
          "base_uri": "https://localhost:8080/"
        },
        "id": "7qbjPvXbb97J",
        "outputId": "80b745f2-6e45-4058-dd74-dfdbe83a8a12"
      },
      "outputs": [
        {
          "name": "stdout",
          "output_type": "stream",
          "text": [
            "Relationship between Sleep Hours and Academic Performance:\n",
            "Affects_Academic_Performance\n",
            "No     7.813095\n",
            "Yes    6.343709\n",
            "Name: Sleep_Hours_Per_Night, dtype: float64\n",
            "\n",
            "--------------------------------------------------\n",
            "\n",
            "Relationship between Sleep Hours and Mental Health Score:\n",
            "Sleep_Hours_Per_Night\n",
            "3.8    5.000000\n",
            "3.9    5.000000\n",
            "4.0    5.000000\n",
            "4.1    5.500000\n",
            "4.2    5.500000\n",
            "4.3    5.500000\n",
            "4.4    5.500000\n",
            "4.5    5.000000\n",
            "4.6    5.666667\n",
            "4.7    5.666667\n",
            "Name: Mental_Health_Score, dtype: float64\n",
            "\n",
            "--------------------------------------------------\n",
            "\n",
            "Relationship between Conflicts over Social Media and Relationship Status:\n",
            "Relationship_Status\n",
            "Complicated        3.031250\n",
            "In Relationship    2.761246\n",
            "Single             2.901042\n",
            "Name: Conflicts_Over_Social_Media, dtype: float64\n"
          ]
        }
      ],
      "source": [
        "# Average sleep hours per night by affect on affect on academic performance\n",
        "print(\"Relationship between Sleep Hours and Academic Performance:\")\n",
        "academic_vs_sleepHours = df.groupby('Affects_Academic_Performance')['Sleep_Hours_Per_Night'].mean()\n",
        "print(f\"{academic_vs_sleepHours}\\n\")\n",
        "print('-' * 50)\n",
        "\n",
        "# Average mental health score by sleep hours per night\n",
        "print(\"\\nRelationship between Sleep Hours and Mental Health Score:\")\n",
        "sleepHours_vs_mentalHealth = df.groupby('Sleep_Hours_Per_Night')['Mental_Health_Score'].mean()\n",
        "print(f\"{sleepHours_vs_mentalHealth.head(10)}\\n\")\n",
        "print('-' * 50)\n",
        "\n",
        "# Average social media conflicts by relationship status\n",
        "print(\"\\nRelationship between Conflicts over Social Media and Relationship Status:\")\n",
        "rel_status_vs_conflict = df.groupby('Relationship_Status')['Conflicts_Over_Social_Media'].mean()\n",
        "print(rel_status_vs_conflict)"
      ]
    },
    {
      "cell_type": "markdown",
      "metadata": {
        "id": "BPu1WM8FAudi"
      },
      "source": [
        "---\n",
        "**Sleep Patterns, Academic Results & Social Interaction – Key Insights:**\n",
        "- *Students  whose academic performance suffers due to social media generally sleep fewer hours compared to those whose studies remain unaffected.*  \n",
        "- *A noticeable pattern shows that students with reduced nightly sleep often have lower mental health ratings.*  \n",
        "- *Those in “Complicated” relationships report somewhat higher social media conflict levels than peers who are “Single” or “In a Relationship”.*  \n",
        "---"
      ]
    },
    {
      "cell_type": "markdown",
      "metadata": {
        "id": "YvpuCduGAy36"
      },
      "source": [
        "### Addiction variation across demographics"
      ]
    },
    {
      "cell_type": "markdown",
      "metadata": {
        "id": "eeiqP7Veb-FW"
      },
      "source": [
        "**Exploratory Data Analysis & Visualization**"
      ]
    },
    {
      "cell_type": "code",
      "execution_count": null,
      "metadata": {
        "colab": {
          "base_uri": "https://localhost:8080/"
        },
        "id": "OCFzrc4Ab-QU",
        "outputId": "26245ca6-2ba1-4e99-8819-05e6beda40e1"
      },
      "outputs": [
        {
          "name": "stdout",
          "output_type": "stream",
          "text": [
            "Average Addiction Score by Gender:\n",
            "Gender\n",
            "Female    6.515581\n",
            "Male      6.357955\n",
            "Name: Addicted_Score, dtype: float64\n",
            "\n",
            "--------------------------------------------------\n",
            "\n",
            "Average Addiction Score by Academic Level:\n",
            "Academic_Level\n",
            "Graduate         6.243077\n",
            "High School      8.037037\n",
            "Undergraduate    6.492918\n",
            "Name: Addicted_Score, dtype: float64\n",
            "\n",
            "--------------------------------------------------\n",
            "\n",
            "Average Addiction Score by Age:\n",
            "Age\n",
            "18    7.785714\n",
            "19    6.650307\n",
            "20    6.478788\n",
            "21    6.589744\n",
            "22    6.095238\n",
            "23    5.676471\n",
            "24    6.115385\n",
            "Name: Addicted_Score, dtype: float64\n"
          ]
        }
      ],
      "source": [
        "# Average addiction score by Gender\n",
        "print(\"Average Addiction Score by Gender:\")\n",
        "print(f\"{df.groupby('Gender')['Addicted_Score'].mean()}\\n\")\n",
        "print('-' * 50)\n",
        "\n",
        "# Average addiction score by Academic Level\n",
        "print(\"\\nAverage Addiction Score by Academic Level:\")\n",
        "print(f\"{df.groupby('Academic_Level')['Addicted_Score'].mean()}\\n\")\n",
        "print('-' * 50)\n",
        "\n",
        "# Average addiction score by Age\n",
        "print(\"\\nAverage Addiction Score by Age:\")\n",
        "print(df.groupby('Age')['Addicted_Score'].mean())"
      ]
    },
    {
      "cell_type": "markdown",
      "metadata": {
        "id": "kHhxk7PpBUO7"
      },
      "source": [
        "---\n",
        "**Addiction across demographic (gender, academic level & age) observations :**\n",
        "- *Addiction score tends to be higher in Females but only by a slight margin*.\n",
        "- *High School students tend to have higher addiction score*.\n",
        "- S*tudents aged 18 years have the highest addiction score*.\n",
        "\n",
        "---"
      ]
    },
    {
      "cell_type": "markdown",
      "metadata": {
        "id": "P9-tvFf-BjEs"
      },
      "source": [
        "### Average addiction level across different Genders"
      ]
    },
    {
      "cell_type": "code",
      "execution_count": null,
      "metadata": {
        "colab": {
          "base_uri": "https://localhost:8080/"
        },
        "id": "dS8yz99jb-p0",
        "outputId": "f392a0e9-e606-4179-e6a3-a0d2511e92e4"
      },
      "outputs": [
        {
          "name": "stdout",
          "output_type": "stream",
          "text": [
            "Average addiction level by Gender:\n",
            "----------------------------------------\n",
            "Gender\n",
            "Female    6.515581\n",
            "Male      6.357955\n",
            "Name: Addicted_Score, dtype: float64\n"
          ]
        }
      ],
      "source": [
        "print(\"Average addiction level by Gender:\")\n",
        "print('-' * 40)\n",
        "print(df.groupby('Gender')['Addicted_Score'].mean())"
      ]
    },
    {
      "cell_type": "markdown",
      "metadata": {
        "id": "LrJyI3_eBraF"
      },
      "source": [
        "### Average addiction level across different Age groups"
      ]
    },
    {
      "cell_type": "code",
      "execution_count": null,
      "metadata": {
        "colab": {
          "base_uri": "https://localhost:8080/"
        },
        "id": "Yi5zjxZeBrj5",
        "outputId": "71e6814a-a5cb-4aea-a136-6dc5b1400a15"
      },
      "outputs": [
        {
          "name": "stdout",
          "output_type": "stream",
          "text": [
            "\n",
            "Average addiction level by Age group:\n",
            "----------------------------------------\n",
            "Age\n",
            "18    7.785714\n",
            "19    6.650307\n",
            "20    6.478788\n",
            "21    6.589744\n",
            "22    6.095238\n",
            "23    5.676471\n",
            "24    6.115385\n",
            "Name: Addicted_Score, dtype: float64\n"
          ]
        }
      ],
      "source": [
        "print(\"\\nAverage addiction level by Age group:\")\n",
        "print('-' * 40)\n",
        "print(df.groupby('Age')['Addicted_Score'].mean())"
      ]
    },
    {
      "cell_type": "markdown",
      "metadata": {
        "id": "6V8mAsuVb-3s"
      },
      "source": [
        "### Average addiction level across different Education levels"
      ]
    },
    {
      "cell_type": "code",
      "execution_count": null,
      "metadata": {
        "colab": {
          "base_uri": "https://localhost:8080/"
        },
        "id": "gLq2Yp38b_Dt",
        "outputId": "d2a375ff-eac3-48b7-dfc0-e82f563d7e54"
      },
      "outputs": [
        {
          "name": "stdout",
          "output_type": "stream",
          "text": [
            "\n",
            "Average addiction level by Education level:\n",
            "---------------------------------------------\n",
            "Academic_Level\n",
            "Graduate         6.243077\n",
            "High School      8.037037\n",
            "Undergraduate    6.492918\n",
            "Name: Addicted_Score, dtype: float64\n"
          ]
        }
      ],
      "source": [
        "print(\"\\nAverage addiction level by Education level:\")\n",
        "print('-' * 45)\n",
        "print(df.groupby('Academic_Level')['Addicted_Score'].mean())"
      ]
    },
    {
      "cell_type": "markdown",
      "metadata": {
        "id": "4Nn1bUiDdi_9"
      },
      "source": [
        "### Classifying risk level (Low/Medium/High) based on usage hours"
      ]
    },
    {
      "cell_type": "code",
      "execution_count": null,
      "metadata": {
        "colab": {
          "base_uri": "https://localhost:8080/"
        },
        "id": "NwfriCCFb_ch",
        "outputId": "997ea18b-527d-43a4-dbf5-46cdb1c7444f"
      },
      "outputs": [
        {
          "name": "stdout",
          "output_type": "stream",
          "text": [
            "Risk Level Classification:\n",
            "------------------------------\n",
            "Risk_Level\n",
            "Medium Risk    512\n",
            "High Risk      150\n",
            "Low Risk        43\n",
            "Name: count, dtype: int64\n"
          ]
        }
      ],
      "source": [
        "def classify_risk(usage_hours):\n",
        "    '''\n",
        "    This function returns the risk level based on the average daily usage hours passed in the argument.\n",
        "    It uses if elif else conditions to return the appropriate risk level.\n",
        "    '''\n",
        "\n",
        "    if usage_hours < 3:\n",
        "        return \"Low Risk\"\n",
        "\n",
        "    elif 3 <= usage_hours < 6:\n",
        "        return \"Medium Risk\"\n",
        "\n",
        "    else:\n",
        "        return \"High Risk\"\n",
        "\n",
        "# creating a new column for risk level with the risk level returned from above function\n",
        "df['Risk_Level'] = df['Avg_Daily_Usage_Hours'].apply(classify_risk)\n",
        "\n",
        "print(\"Risk Level Classification:\")\n",
        "print('-' * 30)\n",
        "print(df['Risk_Level'].value_counts())"
      ]
    },
    {
      "cell_type": "markdown",
      "metadata": {
        "id": "I6cUxfTQb_mH"
      },
      "source": [
        "### Preparing Digital detox strategies"
      ]
    },
    {
      "cell_type": "code",
      "execution_count": null,
      "metadata": {
        "colab": {
          "base_uri": "https://localhost:8080/"
        },
        "id": "96KvstMXb_wc",
        "outputId": "3c2bfe60-0818-490b-e50b-0d8603a0b681"
      },
      "outputs": [
        {
          "name": "stdout",
          "output_type": "stream",
          "text": [
            "\n",
            "Digital Detox Suggestions:\n",
            "------------------------------\n",
            "For Student ID 626 (Medium Risk): Try setting daily time limits, scheduling screen-free activities, and being mindful of usage.\n",
            "\n",
            "For Student ID 472 (Low Risk): Continue healthy usage habits, be aware of potential triggers, and maintain a balanced lifestyle.\n",
            "\n",
            "For Student ID 677 (Medium Risk): Try setting daily time limits, scheduling screen-free activities, and being mindful of usage.\n",
            "\n",
            "For Student ID 86 (Medium Risk): Try setting daily time limits, scheduling screen-free activities, and being mindful of usage.\n",
            "\n",
            "For Student ID 182 (Medium Risk): Try setting daily time limits, scheduling screen-free activities, and being mindful of usage.\n",
            "\n"
          ]
        }
      ],
      "source": [
        "def suggest_detox(risk_level):\n",
        "    '''\n",
        "    This function returns digital detox strategies based on the risk level passed in the argument.\n",
        "    It is using if elif else conditions to return the appropriate strategy.\n",
        "    '''\n",
        "\n",
        "    if risk_level == \"High Risk\":\n",
        "        return \"Consider significantly reducing usage, setting strict limits, and seeking professional help if needed.\"\n",
        "\n",
        "    elif risk_level == \"Medium Risk\":\n",
        "        return \"Try setting daily time limits, scheduling screen-free activities, and being mindful of usage.\"\n",
        "\n",
        "    else:\n",
        "        return \"Continue healthy usage habits, be aware of potential triggers, and maintain a balanced lifestyle.\"\n",
        "\n",
        "# creating a new column for Detox suggestions with the values returned from the above function\n",
        "df['Detox_Suggestion'] = df['Risk_Level'].apply(suggest_detox)\n",
        "\n",
        "print(\"\\nDigital Detox Suggestions:\")\n",
        "print('-' * 30)\n",
        "\n",
        "# taking a random sample of 5 records to show a the Detox assessment\n",
        "for index, row in df.sample(5).iterrows():\n",
        "    print(f\"For Student ID {row['Student_ID']} ({row['Risk_Level']}): {row['Detox_Suggestion']}\\n\")"
      ]
    },
    {
      "cell_type": "markdown",
      "metadata": {
        "id": "YgS0oDiMLieh"
      },
      "source": [
        "### Visualizing the data\n",
        "\n"
      ]
    },
    {
      "cell_type": "markdown",
      "metadata": {
        "id": "91ZD5jJPL-3U"
      },
      "source": [
        "### Bar chart: Average Addiction Score by Academic Level"
      ]
    },
    {
      "cell_type": "code",
      "execution_count": null,
      "metadata": {
        "colab": {
          "base_uri": "https://localhost:8080/",
          "height": 607
        },
        "id": "noAcviawLisv",
        "outputId": "035daa63-4e5d-44b7-a985-4946692ab96b"
      },
      "outputs": [
        {
          "data": {
            "image/png": "[encoded data removed]",
            "text/plain": [
              "<Figure size 1000x600 with 1 Axes>"
            ]
          },
          "metadata": {},
          "output_type": "display_data"
        }
      ],
      "source": [
        "plt.figure(figsize = (10, 6))\n",
        "\n",
        "# creating a bar plot\n",
        "ax = sns.barplot(\n",
        "    x = 'Academic_Level',\n",
        "    y = 'Addicted_Score',\n",
        "    data = df,\n",
        "    palette = 'mako',\n",
        "    ci = None\n",
        ")\n",
        "plt.title('Average Addiction Score by Academic Level', color = '#1B2631', weight = 'bold')  #\n",
        "plt.ylabel('Average Addiction Score', color = '#117A65', weight = 'bold')\n",
        "plt.xlabel('Academic Level', color = '#117A65', weight = 'bold')\n",
        "\n",
        "# Add labels above the bars\n",
        "for container in ax.containers:\n",
        "    ax.bar_label(container, fmt = '%.2f', padding = 3, color = '#D35400', weight = 'bold')\n",
        "\n",
        "plt.tight_layout()\n",
        "plt.show()\n"
      ]
    },
    {
      "cell_type": "markdown",
      "metadata": {
        "id": "iF_WbeKsT-kj"
      },
      "source": [
        "---\n",
        "**Bar plot Insight:**\n",
        "- *High School students show the highest average addiction score compared to Undergraduate and Graduate students*.\n",
        "-  *Graduate and Undergraduate students have almost similar addiction scores.*\n",
        "\n",
        "---"
      ]
    },
    {
      "cell_type": "markdown",
      "metadata": {
        "id": "4JxEOZRGUDT6"
      },
      "source": [
        "### Pie chart: Distribution of Risk Levels"
      ]
    },
    {
      "cell_type": "code",
      "execution_count": null,
      "metadata": {
        "colab": {
          "base_uri": "https://localhost:8080/",
          "height": 675
        },
        "id": "V-y0-BIPLnrT",
        "outputId": "e0e61ec1-1378-4993-d3c5-beaab63db3cd"
      },
      "outputs": [
        {
          "data": {
            "image/png": "[encoded data removed]",
            "text/plain": [
              "<Figure size 800x800 with 1 Axes>"
            ]
          },
          "metadata": {},
          "output_type": "display_data"
        }
      ],
      "source": [
        "risk_counts = df['Risk_Level'].value_counts()  # count of risk level\n",
        "plt.figure(figsize = (8, 8))\n",
        "\n",
        "# creating a pie chart\n",
        "plt.pie(\n",
        "    risk_counts,\n",
        "    labels = risk_counts.index,\n",
        "    autopct = '%1.1f%%',\n",
        "    startangle = 90,\n",
        "    colors = sns.color_palette(['#2E86C1', '#28B463', '#E67E22', '#C0392B']),\n",
        "    textprops={'color': '#2C3E50', 'weight': 'bold'}\n",
        "plt.title('Distribution of Risk Levels', color = '#1B2631', weight = 'bold')\n",
        "plt.legend(title=\"Risk Levels\", loc=\"upper left\", bbox_to_anchor=(0, 1))\n",
        "plt.show()\n"
      ]
    },
    {
      "cell_type": "markdown",
      "metadata": {
        "id": "bxpLrukdUv4E"
      },
      "source": [
        " ---\n",
        " **Pie chart Insight:**\n",
        "- *The \"Medium Risk\" category represents the largest portion of the student population studied.*\n",
        "- *While \"High Risk\" is a smaller percentage, it still indicates a significant number of students who may be experiencing more severe issues related to social media usage.*\n",
        "- *The \"Low Risk\" category is the smallest, suggesting that only a minority of students maintain low social media usage habits.*\n",
        "---"
      ]
    },
    {
      "cell_type": "markdown",
      "metadata": {
        "id": "3a6RWkWiU0S0"
      },
      "source": [
        "### Heatmap: Correlation matrix of numerical columns"
      ]
    },
    {
      "cell_type": "code",
      "execution_count": null,
      "metadata": {
        "colab": {
          "base_uri": "https://localhost:8080/",
          "height": 834
        },
        "id": "-QjzFDCoLnuo",
        "outputId": "8515c9ad-95d0-46fc-d038-7460c3c21fcd"
      },
      "outputs": [
        {
          "data": {
            "image/png": "[encoded data removed]",
            "text/plain": [
              "<Figure size 1200x800 with 2 Axes>"
            ]
          },
          "metadata": {},
          "output_type": "display_data"
        }
      ],
      "source": [
        "plt.figure(figsize = (12, 8))\n",
        "\n",
        "# creating a heat map\n",
        "sns.heatmap(\n",
        "    df[['Age', 'Avg_Daily_Usage_Hours', 'Sleep_Hours_Per_Night',\n",
        "        'Mental_Health_Score', 'Conflicts_Over_Social_Media', 'Addicted_Score']]\n",
        "    .corr(),\n",
        "    annot = True,\n",
        "    cmap = 'coolwarm',\n",
        "    fmt = \".2f\",\n",
        "    annot_kws={\"weight\": \"bold\", \"color\": \"black\"}\n",
        ")\n",
        "plt.title('Correlation Matrix of Numerical Columns', color = '#1B2631', weight = 'bold')\n",
        "plt.xticks(rotation = 45, ha = 'right')\n",
        "plt.yticks(rotation = 0)\n",
        "plt.show()\n"
      ]
    },
    {
      "cell_type": "markdown",
      "metadata": {
        "id": "csMkNg-8VK36"
      },
      "source": [
        "---\n",
        "\n",
        "   **Heatmap Observations**/**Insight:**\n",
        "   \n",
        "- *Students who spend more time on social media each day usually show higher addiction levels. This is reflected by the strong positive correlation (0.83) between Avg_Daily_Usage_Hours and Addicted_Score.*  \n",
        "- *Greater addiction scores are linked to more frequent social media disputes, as indicated by the strong positive correlation (0.93) between Addicted_Score and Conflicts_Over_Social_Media.*  \n",
        "- *Increased daily usage is often connected with fewer hours of sleep per night. This is shown by the strong negative correlation (-0.79) between Avg_Daily_Usage_Hours and Sleep_Hours_Per_Night.*  \n",
        "- *Students who spend more time online also tend to have lower mental health ratings, as evidenced by the strong negative correlation (-0.80) between Avg_Daily_Usage_Hours and Mental_Health_Score.*  \n",
        "- *Lower mental health scores appear to go hand-in-hand with more conflicts on social media, supported by the strong negative correlation (-0.89) between Mental_Health_Score and Conflicts_Over_Social_Media.*  \n",
        "\n",
        "*In short, higher social media engagement appears to be tied to a pattern of negative effects — including poor sleep, declining mental well-being, higher addiction levels, and more frequent online conflicts.*\n",
        "\n",
        "---"
      ]
    },
    {
      "cell_type": "markdown",
      "metadata": {
        "id": "877cdbmnOSbQ"
      },
      "source": []
    },
    {
      "cell_type": "markdown",
      "metadata": {
        "id": "RYAjTCM4VMNr"
      },
      "source": [
        "### Line plot: Average Daily Usage Hours by Age"
      ]
    },
    {
      "cell_type": "code",
      "execution_count": null,
      "metadata": {
        "colab": {
          "base_uri": "https://localhost:8080/",
          "height": 607
        },
        "id": "2xT6YmoxVMct",
        "outputId": "7ff6f8d5-244c-4196-dd32-fecb4354ddf7"
      },
      "outputs": [
        {
          "data": {
            "image/png": "[encoded data removed]",
            "text/plain": [
              "<Figure size 1000x600 with 1 Axes>"
            ]
          },
          "metadata": {},
          "output_type": "display_data"
        }
      ],
      "source": [
        "data = df.groupby('Age')['Avg_Daily_Usage_Hours'].mean().reset_index()\n",
        "plt.figure(figsize = (10, 6))\n",
        "\n",
        "# creating a lineplot\n",
        "ax = sns.lineplot(\n",
        "    x = 'Age', y = 'Avg_Daily_Usage_Hours',\n",
        "    data = data, marker = 'o',\n",
        "    markerfacecolor = '#FF7F0E',\n",
        "    color = '#2E86C1'\n",
        ")\n",
        "plt.title('Average Daily Usage Hours by Age', color = '#1B2631', weight = 'bold')  # near-black title\n",
        "plt.ylabel('Average Daily Usage Hours', color = '#117A65')\n",
        "plt.xlabel('Age', color = '#117A65')\n",
        "plt.grid(True)\n",
        "\n",
        "# Add labels to the data points\n",
        "for x, y in df.groupby('Age')['Avg_Daily_Usage_Hours'].mean().reset_index().values:\n",
        "    plt.text(x, y, f'{y:.2f}', ha = 'left', va = 'bottom', color = '#C0392B', fontsize = 11)  # rich red labels\n",
        "\n",
        "plt.tight_layout()\n",
        "plt.show()\n"
      ]
    },
    {
      "cell_type": "markdown",
      "metadata": {
        "id": "0OJcZkcMWKmB"
      },
      "source": [
        "**Line plot Insight:**\n",
        "- *Average daily social media usage hours tend to decrease as age people get older, with a significant increase at age 24*."
      ]
    },
    {
      "cell_type": "markdown",
      "metadata": {
        "id": "eQC3DgrPb_6m"
      },
      "source": [
        "---\n",
        "## **Storytelling Deliverable – 10-Line Summary**\n",
        "\n",
        "1. Our analysis shows that **high school students** have the **highest social media addiction scores**, making them the **most at risk**.  \n",
        "2. While older students spend **slightly less time online**, **high usage at any age** still leads to **greater addiction levels**.  \n",
        "3. Addiction scores for **males (6.3)** and **females (6.5)** are similar, showing that **gender is not a major factor**.  \n",
        "4. Heavy social media use is linked to **reduced sleep hours** and **lower mental health scores**, harming overall **well-being**.  \n",
        "5. Excessive usage also causes **more frequent arguments** and **relationship conflicts**.  \n",
        "6. The **majority of students** fall into the **medium-risk usage group**, making this a **widespread concern**.  \n",
        "7. **Younger students** face stronger negative effects, including **poor sleep patterns** and **reduced academic performance**.  \n",
        "8. Without action, these patterns may **worsen mental health** and **damage interpersonal relationships** over time.  \n",
        "9. We recommend **daily app usage limits**, more **screen-free activities**, and **awareness programs** in schools.  \n",
        "10. For **high-risk individuals**, structured **digital detox plans** and **professional counseling** are **essential for recovery**.  \n",
        "---"
      ]
    }
  ],
  "metadata": {
    "colab": {
      "provenance": []
    },
    "kernelspec": {
      "display_name": "Python 3",
      "name": "python3"
    },
    "language_info": {
      "name": "python"
    }
  },
  "nbformat": 4,
  "nbformat_minor": 0
}
